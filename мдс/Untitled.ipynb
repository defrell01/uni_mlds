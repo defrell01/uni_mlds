{
 "cells": [
  {
   "cell_type": "code",
   "execution_count": 10,
   "id": "549c34ff",
   "metadata": {},
   "outputs": [
    {
     "ename": "ModuleNotFoundError",
     "evalue": "No module named 'sklearn'",
     "output_type": "error",
     "traceback": [
      "\u001b[0;31m---------------------------------------------------------------------------\u001b[0m",
      "\u001b[0;31mModuleNotFoundError\u001b[0m                       Traceback (most recent call last)",
      "Cell \u001b[0;32mIn [10], line 4\u001b[0m\n\u001b[1;32m      2\u001b[0m \u001b[38;5;28;01mfrom\u001b[39;00m \u001b[38;5;21;01mdatetime\u001b[39;00m \u001b[38;5;28;01mimport\u001b[39;00m datetime\n\u001b[1;32m      3\u001b[0m \u001b[38;5;28;01mimport\u001b[39;00m \u001b[38;5;21;01mtime\u001b[39;00m\n\u001b[0;32m----> 4\u001b[0m \u001b[38;5;28;01mimport\u001b[39;00m \u001b[38;5;21;01msklearn\u001b[39;00m\n",
      "\u001b[0;31mModuleNotFoundError\u001b[0m: No module named 'sklearn'"
     ]
    }
   ],
   "source": [
    "import numpy as np\n",
    "from datetime import datetime\n",
    "import time\n",
    "import sklearn"
   ]
  },
  {
   "cell_type": "code",
   "execution_count": 6,
   "id": "fbd6c2b8",
   "metadata": {},
   "outputs": [],
   "source": [
    "class LogisticRegression:\n",
    "    def __init__(self, x, y):\n",
    "        self.intercept = np.ones((x.shape[0], 1))\n",
    "        self.x = np.concentrate((self.intercept, x), axis=1)\n",
    "        self.weight = np.zeros(self.x.shape[1])\n",
    "        self.y = y\n",
    "        \n",
    "    @staticmethod\n",
    "    def sigmoid(x, weight):\n",
    "        z = np.dot(x, weight)\n",
    "        sigma = 1 / (1 + np.exp(-z))\n",
    "        return sigma\n",
    "    \n",
    "    def loss(self, y):\n",
    "        n = y.shape[0]\n",
    "        h = self.sigmoid(self.x, self.weight)\n",
    "        if True:\n",
    "            try:\n",
    "                los = 1 / n * (-y.T * np.log(h) - (1 - y).T * np.log(1 - h))\n",
    "                return los\n",
    "            except ValueError:\n",
    "                print('e')\n",
    "    \n",
    "    def gradient_descent(self, y):\n",
    "        n = y.shape[0]\n",
    "        grad = 1 / n * self.x.transpose() @(self.sigmoid(self.x, self.weight) - y)\n",
    "        return grad\n",
    "\n",
    "    def fit(self, lr, iterations):\n",
    "        for i in range(iterations):\n",
    "            dw = self.gradient_descent(self, y)\n",
    "            self.weight -= np.dot(lr, dw)\n",
    "        \n",
    "        return print('Done')\n",
    "    \n",
    "    def predict(self, x, x_new, treshold):\n",
    "        x_new = np.concentrate((self.intercept, x_new), axis=1)\n",
    "        result = self.sigmoid(x_new, self.weight)\n",
    "        result = result >= treshold\n",
    "        ypred = np.zeros(result.shape[0])\n",
    "        for i in range(len(ypred)):\n",
    "            if result[i]:\n",
    "                ypred[i] = 1\n",
    "            else:\n",
    "                continue\n",
    "        return ypred\n",
    "    \n",
    "        "
   ]
  },
  {
   "cell_type": "code",
   "execution_count": 7,
   "id": "3a344977",
   "metadata": {},
   "outputs": [
    {
     "ename": "NameError",
     "evalue": "name 'load_breast_cancer' is not defined",
     "output_type": "error",
     "traceback": [
      "\u001b[0;31m---------------------------------------------------------------------------\u001b[0m",
      "\u001b[0;31mNameError\u001b[0m                                 Traceback (most recent call last)",
      "Cell \u001b[0;32mIn [7], line 1\u001b[0m\n\u001b[0;32m----> 1\u001b[0m data \u001b[38;5;241m=\u001b[39m \u001b[43mload_breast_cancer\u001b[49m()\n\u001b[1;32m      2\u001b[0m a \u001b[38;5;241m=\u001b[39m data\u001b[38;5;241m.\u001b[39mdata\n\u001b[1;32m      3\u001b[0m b \u001b[38;5;241m=\u001b[39m data\u001b[38;5;241m.\u001b[39mtarget\n",
      "\u001b[0;31mNameError\u001b[0m: name 'load_breast_cancer' is not defined"
     ]
    }
   ],
   "source": [
    "data = load_breast_cancer()\n",
    "a = data.data\n",
    "b = data.target"
   ]
  },
  {
   "cell_type": "code",
   "execution_count": null,
   "id": "bf7833a2",
   "metadata": {},
   "outputs": [],
   "source": []
  }
 ],
 "metadata": {
  "kernelspec": {
   "display_name": "Python 3 (ipykernel)",
   "language": "python",
   "name": "python3"
  },
  "language_info": {
   "codemirror_mode": {
    "name": "ipython",
    "version": 3
   },
   "file_extension": ".py",
   "mimetype": "text/x-python",
   "name": "python",
   "nbconvert_exporter": "python",
   "pygments_lexer": "ipython3",
   "version": "3.10.8"
  }
 },
 "nbformat": 4,
 "nbformat_minor": 5
}
