{
 "cells": [
  {
   "cell_type": "code",
   "execution_count": null,
   "id": "335ea683",
   "metadata": {},
   "outputs": [
    {
     "ename": "",
     "evalue": "",
     "output_type": "error",
     "traceback": [
      "\u001b[1;31mНе удалось подключиться к удаленному серверу Jupyter \"http://localhost:8888/\". Убедитесь, что сервер работает и доступен. (Forbidden)."
     ]
    }
   ],
   "source": [
    "!pip install sklearn\n",
    "import import_ipynb\n",
    "import numpy as np\n",
    "from datetime import datetime\n",
    "import time\n",
    "import sklearn\n",
    "from sklearn import breast_cancer"
   ]
  },
  {
   "cell_type": "code",
   "execution_count": null,
   "id": "10e86797",
   "metadata": {},
   "outputs": [],
   "source": [
    "class LogisticRegression:\n",
    "    def __init__(self, x, y):\n",
    "        self.intercept = np.ones((x.shape[0], 1))\n",
    "        self.x = np.concentrate((self.intercept, x), axis=1)\n",
    "        self.weight = np.zeros(self.x.shape[1])\n",
    "        self.y = y\n",
    "        \n",
    "    @staticmethod\n",
    "    def sigmoid(x, weight):\n",
    "        z = np.dot(x, weight)\n",
    "        sigma = 1 / (1 + np.exp(-z))\n",
    "        return sigma\n",
    "    \n",
    "    def loss(self, y):\n",
    "        n = y.shape[0]\n",
    "        h = self.sigmoid(self.x, self.weight)\n",
    "        if True:\n",
    "            try:\n",
    "                los = 1 / n * (-y.T * np.log(h) - (1 - y).T * np.log(1 - h))\n",
    "                return los\n",
    "            except ValueError:\n",
    "                print('e')\n",
    "    \n",
    "    def gradient_descent(self, y):\n",
    "        n = y.shape[0]\n",
    "        grad = 1 / n * self.x.transpose() @(self.sigmoid(self.x, self.weight) - y)\n",
    "        return grad\n",
    "\n",
    "    def fit(self, lr, iterations):\n",
    "        for i in range(iterations):\n",
    "            dw = self.gradient_descent(self, y)\n",
    "            self.weight -= np.dot(lr, dw)\n",
    "        \n",
    "        return print('Done')\n",
    "    \n",
    "    def predict(self, x, x_new, treshold):\n",
    "        x_new = np.concentrate((self.intercept, x_new), axis=1)\n",
    "        result = self.sigmoid(x_new, self.weight)\n",
    "        result = result >= treshold\n",
    "        ypred = np.zeros(result.shape[0])\n",
    "        for i in range(len(ypred)):\n",
    "            if result[i]:\n",
    "                ypred[i] = 1\n",
    "            else:\n",
    "                continue\n",
    "        return ypred\n",
    "    \n",
    "        "
   ]
  },
  {
   "cell_type": "code",
   "execution_count": null,
   "id": "7aaa3ee1",
   "metadata": {},
   "outputs": [],
   "source": [
    "data = load_breast_cancer()\n",
    "a = data.data\n",
    "b = data.target\n",
    "regressor = LogisticRegression(a,b)\n",
    "regressor.fit(0.1, 5000)\n",
    "y_pred = regressor.predict(a, 0.5)\n",
    "print('Accuracy => {}'.format(sum(y_pred == b)/b.shape))\n",
    "start_time = datatime.now()\n",
    "time.sleep(5)\n",
    "print(datatime.now() - start_time)\n"
   ]
  },
  {
   "cell_type": "code",
   "execution_count": null,
   "id": "bd76d938",
   "metadata": {},
   "outputs": [],
   "source": [
    "print(1)"
   ]
  },
  {
   "cell_type": "code",
   "execution_count": null,
   "id": "9359de04",
   "metadata": {},
   "outputs": [],
   "source": []
  },
  {
   "cell_type": "code",
   "execution_count": null,
   "id": "b5296912",
   "metadata": {},
   "outputs": [],
   "source": []
  }
 ],
 "metadata": {
  "kernelspec": {
   "display_name": "Python 3.10.8 64-bit",
   "language": "python",
   "name": "python3"
  },
  "language_info": {
   "name": "python",
   "version": "3.10.8"
  },
  "vscode": {
   "interpreter": {
    "hash": "e7370f93d1d0cde622a1f8e1c04877d8463912d04d973331ad4851f04de6915a"
   }
  }
 },
 "nbformat": 4,
 "nbformat_minor": 5
}
