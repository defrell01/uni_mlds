{
  "cells": [
    {
      "cell_type": "markdown",
      "metadata": {
        "id": "YXgfLwdUwRNZ"
      },
      "source": [
        "<center>\n",
        "<img src=\"../../img/ods_stickers.jpg\" />\n",
        "    \n",
        "## [mlcourse.ai](https://mlcourse.ai) – Open Machine Learning Course \n",
        "Author: Arina Lopukhova (@erynn). Edited by [Yury Kashnitskiy](https://yorko.github.io) (@yorko) and Vadim Shestopalov (@vchulski). This material is subject to the terms and conditions of the [Creative Commons CC BY-NC-SA 4.0](https://creativecommons.org/licenses/by-nc-sa/4.0/) license. Free use is permitted for any non-commercial purpose."
      ]
    },
    {
      "cell_type": "markdown",
      "metadata": {
        "id": "sSospxmbwRNb"
      },
      "source": [
        "## <center>Разведывательный анализ данных в Pandas (история олимпийских игр)\n",
        "    \n",
        "Данные содержат следующие признаки:\n",
        "\n",
        "* ID - Unique number for each athlete\n",
        "* Name - Athlete's name\n",
        "* Sex - M or F\n",
        "* Age - Integer\n",
        "* Height - In centimeters\n",
        "* Weight - In kilograms\n",
        "* Team - Team name\n",
        "* NOC - National Olympic Committee 3-letter code\n",
        "* Games - Year and season\n",
        "* Year - Integer\n",
        "* Season - Summer or Winter\n",
        "* City - Host city\n",
        "* Sport - Sport\n",
        "* Event - Event\n",
        "* Medal - Gold, Silver, Bronze, or NA\n"
      ]
    },
    {
      "cell_type": "code",
      "execution_count": 2,
      "metadata": {
        "id": "kEwsalDkwRNc"
      },
      "outputs": [],
      "source": [
        "import pandas as pd\n",
        "import matplotlib.pyplot as plt\n",
        "import seaborn as sns\n",
        "sns.set(palette='Set2', font_scale=1.3)\n",
        "%matplotlib inline"
      ]
    },
    {
      "cell_type": "code",
      "execution_count": 3,
      "metadata": {
        "colab": {
          "base_uri": "https://localhost:8080/",
          "height": 206
        },
        "id": "RdAsPkK-wRNd",
        "outputId": "d1ba5dde-8cef-465a-ecc8-f8ed660d66ea"
      },
      "outputs": [
        {
          "data": {
            "text/html": [
              "<div>\n",
              "<style scoped>\n",
              "    .dataframe tbody tr th:only-of-type {\n",
              "        vertical-align: middle;\n",
              "    }\n",
              "\n",
              "    .dataframe tbody tr th {\n",
              "        vertical-align: top;\n",
              "    }\n",
              "\n",
              "    .dataframe thead th {\n",
              "        text-align: right;\n",
              "    }\n",
              "</style>\n",
              "<table border=\"1\" class=\"dataframe\">\n",
              "  <thead>\n",
              "    <tr style=\"text-align: right;\">\n",
              "      <th></th>\n",
              "      <th>ID</th>\n",
              "      <th>Name</th>\n",
              "      <th>Sex</th>\n",
              "      <th>Age</th>\n",
              "      <th>Height</th>\n",
              "      <th>Weight</th>\n",
              "      <th>Team</th>\n",
              "      <th>NOC</th>\n",
              "      <th>Games</th>\n",
              "      <th>Year</th>\n",
              "      <th>Season</th>\n",
              "      <th>City</th>\n",
              "      <th>Sport</th>\n",
              "      <th>Event</th>\n",
              "      <th>Medal</th>\n",
              "    </tr>\n",
              "  </thead>\n",
              "  <tbody>\n",
              "    <tr>\n",
              "      <th>0</th>\n",
              "      <td>1</td>\n",
              "      <td>A Dijiang</td>\n",
              "      <td>M</td>\n",
              "      <td>24.0</td>\n",
              "      <td>180.0</td>\n",
              "      <td>80.0</td>\n",
              "      <td>China</td>\n",
              "      <td>CHN</td>\n",
              "      <td>1992 Summer</td>\n",
              "      <td>1992</td>\n",
              "      <td>Summer</td>\n",
              "      <td>Barcelona</td>\n",
              "      <td>Basketball</td>\n",
              "      <td>Basketball Men's Basketball</td>\n",
              "      <td>NaN</td>\n",
              "    </tr>\n",
              "    <tr>\n",
              "      <th>1</th>\n",
              "      <td>2</td>\n",
              "      <td>A Lamusi</td>\n",
              "      <td>M</td>\n",
              "      <td>23.0</td>\n",
              "      <td>170.0</td>\n",
              "      <td>60.0</td>\n",
              "      <td>China</td>\n",
              "      <td>CHN</td>\n",
              "      <td>2012 Summer</td>\n",
              "      <td>2012</td>\n",
              "      <td>Summer</td>\n",
              "      <td>London</td>\n",
              "      <td>Judo</td>\n",
              "      <td>Judo Men's Extra-Lightweight</td>\n",
              "      <td>NaN</td>\n",
              "    </tr>\n",
              "    <tr>\n",
              "      <th>2</th>\n",
              "      <td>3</td>\n",
              "      <td>Gunnar Nielsen Aaby</td>\n",
              "      <td>M</td>\n",
              "      <td>24.0</td>\n",
              "      <td>NaN</td>\n",
              "      <td>NaN</td>\n",
              "      <td>Denmark</td>\n",
              "      <td>DEN</td>\n",
              "      <td>1920 Summer</td>\n",
              "      <td>1920</td>\n",
              "      <td>Summer</td>\n",
              "      <td>Antwerpen</td>\n",
              "      <td>Football</td>\n",
              "      <td>Football Men's Football</td>\n",
              "      <td>NaN</td>\n",
              "    </tr>\n",
              "    <tr>\n",
              "      <th>3</th>\n",
              "      <td>4</td>\n",
              "      <td>Edgar Lindenau Aabye</td>\n",
              "      <td>M</td>\n",
              "      <td>34.0</td>\n",
              "      <td>NaN</td>\n",
              "      <td>NaN</td>\n",
              "      <td>Denmark/Sweden</td>\n",
              "      <td>DEN</td>\n",
              "      <td>1900 Summer</td>\n",
              "      <td>1900</td>\n",
              "      <td>Summer</td>\n",
              "      <td>Paris</td>\n",
              "      <td>Tug-Of-War</td>\n",
              "      <td>Tug-Of-War Men's Tug-Of-War</td>\n",
              "      <td>Gold</td>\n",
              "    </tr>\n",
              "    <tr>\n",
              "      <th>4</th>\n",
              "      <td>5</td>\n",
              "      <td>Christine Jacoba Aaftink</td>\n",
              "      <td>F</td>\n",
              "      <td>21.0</td>\n",
              "      <td>185.0</td>\n",
              "      <td>82.0</td>\n",
              "      <td>Netherlands</td>\n",
              "      <td>NED</td>\n",
              "      <td>1988 Winter</td>\n",
              "      <td>1988</td>\n",
              "      <td>Winter</td>\n",
              "      <td>Calgary</td>\n",
              "      <td>Speed Skating</td>\n",
              "      <td>Speed Skating Women's 500 metres</td>\n",
              "      <td>NaN</td>\n",
              "    </tr>\n",
              "  </tbody>\n",
              "</table>\n",
              "</div>"
            ],
            "text/plain": [
              "   ID                      Name Sex   Age  Height  Weight            Team  \\\n",
              "0   1                 A Dijiang   M  24.0   180.0    80.0           China   \n",
              "1   2                  A Lamusi   M  23.0   170.0    60.0           China   \n",
              "2   3       Gunnar Nielsen Aaby   M  24.0     NaN     NaN         Denmark   \n",
              "3   4      Edgar Lindenau Aabye   M  34.0     NaN     NaN  Denmark/Sweden   \n",
              "4   5  Christine Jacoba Aaftink   F  21.0   185.0    82.0     Netherlands   \n",
              "\n",
              "   NOC        Games  Year  Season       City          Sport  \\\n",
              "0  CHN  1992 Summer  1992  Summer  Barcelona     Basketball   \n",
              "1  CHN  2012 Summer  2012  Summer     London           Judo   \n",
              "2  DEN  1920 Summer  1920  Summer  Antwerpen       Football   \n",
              "3  DEN  1900 Summer  1900  Summer      Paris     Tug-Of-War   \n",
              "4  NED  1988 Winter  1988  Winter    Calgary  Speed Skating   \n",
              "\n",
              "                              Event Medal  \n",
              "0       Basketball Men's Basketball   NaN  \n",
              "1      Judo Men's Extra-Lightweight   NaN  \n",
              "2           Football Men's Football   NaN  \n",
              "3       Tug-Of-War Men's Tug-Of-War  Gold  \n",
              "4  Speed Skating Women's 500 metres   NaN  "
            ]
          },
          "execution_count": 3,
          "metadata": {},
          "output_type": "execute_result"
        }
      ],
      "source": [
        "data = pd.read_csv('https://raw.githubusercontent.com/rogovich/Data/master/data/olympics/athlete_events.csv')\n",
        "data.head()"
      ]
    },
    {
      "cell_type": "markdown",
      "metadata": {
        "id": "oGkQ10e8wRNf"
      },
      "source": [
        "*Hint:* возможно, в некоторых случаях нужно избавиться от дубликатов, чтобы учитывать одного атлета только один раз. Ниже пример как это сделать. Например, удалим все дубликаты атлетов.\n"
      ]
    },
    {
      "cell_type": "code",
      "execution_count": 4,
      "metadata": {
        "colab": {
          "base_uri": "https://localhost:8080/",
          "height": 52
        },
        "id": "oHPoNlXVwRNg",
        "outputId": "38d11e36-0ce0-4c35-c434-ca8665ff77f8"
      },
      "outputs": [
        {
          "data": {
            "text/plain": [
              "271116"
            ]
          },
          "metadata": {},
          "output_type": "display_data"
        },
        {
          "data": {
            "text/plain": [
              "134732"
            ]
          },
          "metadata": {},
          "output_type": "display_data"
        }
      ],
      "source": [
        "display(data.shape[0])\n",
        "display(data.drop_duplicates('Name').shape[0])"
      ]
    },
    {
      "cell_type": "markdown",
      "metadata": {
        "id": "4TGzDk1IwRNg"
      },
      "source": [
        "Можно удалять полные дубликаты, а можно дубликаты по нескольким колонкам (например, удалять не все дубликаты атлетов, а оставлять одно упоминание атлета для каждых игр)"
      ]
    },
    {
      "cell_type": "code",
      "execution_count": 5,
      "metadata": {
        "id": "7weQTdFNwRNh",
        "outputId": "29d2570d-7dd7-44e8-cf7b-54e471fcea01"
      },
      "outputs": [
        {
          "data": {
            "text/plain": [
              "271116"
            ]
          },
          "metadata": {},
          "output_type": "display_data"
        },
        {
          "data": {
            "text/plain": [
              "187297"
            ]
          },
          "metadata": {},
          "output_type": "display_data"
        },
        {
          "data": {
            "text/plain": [
              "187059"
            ]
          },
          "metadata": {},
          "output_type": "display_data"
        }
      ],
      "source": [
        "display(data.shape[0]) # всего атлетов\n",
        "\n",
        "# всего атлетов, если не учитывать записи с одинаковым именем для одинаковых игр\n",
        "display(data.drop_duplicates(['Name', 'Games']).shape[0]) \n",
        "\n",
        "# всего атлетов, если не учитывать дубликаты по имени, росту и возрасту\n",
        "display(data.drop_duplicates(['Name', 'Age', 'Height']).shape[0]) "
      ]
    },
    {
      "cell_type": "markdown",
      "metadata": {
        "id": "A04awguCwRNh"
      },
      "source": [
        "Обратите внимание, что данный метод не перезаписывает данные, поэтому, чтобы сохранить измененный датафрейм, нужно записать его в переменную."
      ]
    },
    {
      "cell_type": "markdown",
      "metadata": {
        "id": "35unguDDwRNi"
      },
      "source": [
        "**1. Сколько лет было самым молодым участникам (мужчина и женщина) олимпийских игр в 1992 году?**\n"
      ]
    },
    {
      "cell_type": "code",
      "execution_count": 6,
      "metadata": {
        "id": "u5ekTdfcwRNi"
      },
      "outputs": [
        {
          "name": "stdout",
          "output_type": "stream",
          "text": [
            "M min age is  10.0\n",
            "F min age is  11.0\n"
          ]
        }
      ],
      "source": [
        "maleMinAge = data[data['Sex'] == 'M']['Age'].min()\n",
        "femaleMinAge = data[data['Sex'] == 'F']['Age'].min()\n",
        "\n",
        "print('M min age is ', maleMinAge)\n",
        "\n",
        "print('F min age is ', femaleMinAge)"
      ]
    },
    {
      "cell_type": "markdown",
      "metadata": {
        "id": "LzMy5o6WwRNj"
      },
      "source": [
        "__2. Какую пропорцию составляют мужчины-баскетболисты среди всех участников игр 2012 года. Округлите ответ до двух знаков.__\n",
        "\n"
      ]
    },
    {
      "cell_type": "code",
      "execution_count": 7,
      "metadata": {
        "id": "Dp_pXZlMwRNj"
      },
      "outputs": [
        {
          "data": {
            "text/plain": [
              "0.01209814249251243"
            ]
          },
          "execution_count": 7,
          "metadata": {},
          "output_type": "execute_result"
        }
      ],
      "source": [
        "float( ((data['Sport'] == 'Basketball') & (data['Sex'] == 'M')).sum()) / data.shape[0]"
      ]
    },
    {
      "cell_type": "markdown",
      "metadata": {
        "id": "q1cVDrBUwRNk"
      },
      "source": [
        "__3. Найдите среднее и стандартное отклонение для роста теннисисток (большой теннис), которые участвовали в играх 2000 года. Округлите ответ до второго знака.__\n"
      ]
    },
    {
      "cell_type": "code",
      "execution_count": 8,
      "metadata": {
        "id": "6yyKQix8wRNk"
      },
      "outputs": [
        {
          "name": "stdout",
          "output_type": "stream",
          "text": [
            " Среднее -  172 \n",
            " Стд отклонение -  6.5\n"
          ]
        }
      ],
      "source": [
        "fTennis = data[(data['Sport'] == 'Tennis') & (data['Sex'] == 'F') & (data['Year'] == 2000)]['Height']\n",
        "print(\n",
        "    \" Среднее - \", round(fTennis.mean()) ,'\\n',\n",
        "    \"Стд отклонение - \", round(fTennis.std(), 1)\n",
        ")"
      ]
    },
    {
      "cell_type": "markdown",
      "metadata": {
        "id": "ZOTdc5s9wRNk"
      },
      "source": [
        "__4. Выведите названия всех уникальных дисциплин, связанных с катанием на коньках (Skating). Посчитайте их количество__ "
      ]
    },
    {
      "cell_type": "code",
      "execution_count": 9,
      "metadata": {
        "id": "1q_pZyVSwRNl"
      },
      "outputs": [
        {
          "data": {
            "text/plain": [
              "4                   Speed Skating\n",
              "265                Figure Skating\n",
              "2848    Short Track Speed Skating\n",
              "Name: Sport, dtype: object"
            ]
          },
          "execution_count": 9,
          "metadata": {},
          "output_type": "execute_result"
        }
      ],
      "source": [
        "skating = data[data['Sport'].str.contains(r'Skating')]\n",
        "skating.drop_duplicates(['Sport'])['Sport']"
      ]
    },
    {
      "cell_type": "markdown",
      "metadata": {
        "id": "iI-NX2fTwRNl"
      },
      "source": [
        "__5. Найдите самую легкую атлетку игр 2006 года. В каком виде спорта она участвовала?__\n"
      ]
    },
    {
      "cell_type": "code",
      "execution_count": 10,
      "metadata": {
        "id": "rKO_sOlhwRNm"
      },
      "outputs": [
        {
          "data": {
            "text/html": [
              "<div>\n",
              "<style scoped>\n",
              "    .dataframe tbody tr th:only-of-type {\n",
              "        vertical-align: middle;\n",
              "    }\n",
              "\n",
              "    .dataframe tbody tr th {\n",
              "        vertical-align: top;\n",
              "    }\n",
              "\n",
              "    .dataframe thead th {\n",
              "        text-align: right;\n",
              "    }\n",
              "</style>\n",
              "<table border=\"1\" class=\"dataframe\">\n",
              "  <thead>\n",
              "    <tr style=\"text-align: right;\">\n",
              "      <th></th>\n",
              "      <th>Sport</th>\n",
              "      <th>Weight</th>\n",
              "    </tr>\n",
              "  </thead>\n",
              "  <tbody>\n",
              "    <tr>\n",
              "      <th>188177</th>\n",
              "      <td>Figure Skating</td>\n",
              "      <td>38.0</td>\n",
              "    </tr>\n",
              "  </tbody>\n",
              "</table>\n",
              "</div>"
            ],
            "text/plain": [
              "                 Sport  Weight\n",
              "188177  Figure Skating    38.0"
            ]
          },
          "execution_count": 10,
          "metadata": {},
          "output_type": "execute_result"
        }
      ],
      "source": [
        "lightest = data[['Sport', 'Weight']][(data['Year'] == 2006) & (data['Sex'] == 'F')]\n",
        "lightest = lightest[lightest['Weight'] == lightest['Weight'].min()]\n",
        "lightest\n"
      ]
    },
    {
      "cell_type": "markdown",
      "metadata": {
        "id": "tqVy9wS_wRNn"
      },
      "source": [
        "__6. В скольких олимпиадах принимал участие John Aalberg?__"
      ]
    },
    {
      "cell_type": "code",
      "execution_count": 11,
      "metadata": {
        "id": "_QPyRGH-wRNn"
      },
      "outputs": [
        {
          "name": "stdout",
          "output_type": "stream",
          "text": [
            "2\n"
          ]
        },
        {
          "name": "stderr",
          "output_type": "stream",
          "text": [
            "C:\\Users\\alexd\\AppData\\Local\\Temp\\ipykernel_6860\\2359985071.py:1: UserWarning: Boolean Series key will be reindexed to match DataFrame index.\n",
            "  john = data.drop_duplicates(['Name', 'Games'])[data['Name'] == 'John Aalberg']\n"
          ]
        }
      ],
      "source": [
        "\n",
        "john = data.drop_duplicates(['Name', 'Games'])[data['Name'] == 'John Aalberg']\n",
        "print (john.shape[0])"
      ]
    },
    {
      "cell_type": "markdown",
      "metadata": {
        "id": "TdH_Uj8nwRNn"
      },
      "source": [
        "__7. Сколько золотых медалей настольном теннисе выиграл Китай на Олимпиаде в 2008 году?__"
      ]
    },
    {
      "cell_type": "code",
      "execution_count": 12,
      "metadata": {
        "id": "ac7-yOxHwRNo"
      },
      "outputs": [
        {
          "data": {
            "text/plain": [
              "8"
            ]
          },
          "execution_count": 12,
          "metadata": {},
          "output_type": "execute_result"
        }
      ],
      "source": [
        "china = data[(data['Sport'] == 'Table Tennis') & (data['Team'] == 'China') & (data['Medal'] == 'Gold') & (data['Year'] == 2008)].shape[0]\n",
        "china"
      ]
    },
    {
      "cell_type": "markdown",
      "metadata": {
        "id": "nT4gVuYJwRNo"
      },
      "source": [
        "__8. Правда ли, что Испания выиграла меньше медалей чем Италия на играх 2016 года? Ну учитывайте NaN в колонке _Medal_.__\n"
      ]
    },
    {
      "cell_type": "code",
      "execution_count": 13,
      "metadata": {
        "id": "-S2D7Wa6wRNo"
      },
      "outputs": [
        {
          "name": "stdout",
          "output_type": "stream",
          "text": [
            "False\n"
          ]
        }
      ],
      "source": [
        "dt = data[((data['Team'] == 'Spain') | (data['Team'] == 'Italy')) & (data['Year'] == 2016)]\n",
        "dt = dt.dropna(subset = ['Medal'])\n",
        "spain = dt[dt['Team'] == 'Spain'].shape[0]\n",
        "italy = dt[dt['Team'] == 'Italy'].shape[0]\n",
        "\n",
        "print(spain > italy)"
      ]
    },
    {
      "cell_type": "markdown",
      "metadata": {
        "id": "1tfthslRwRNo"
      },
      "source": [
        "__9. Найдите самую многочисленную и самую малочисленную группу по возрасту среди всех участников игр (разбейте возраст по 10 лет).__\n"
      ]
    },
    {
      "cell_type": "code",
      "execution_count": 14,
      "metadata": {
        "id": "PwOniem4wRNp"
      },
      "outputs": [
        {
          "name": "stdout",
          "output_type": "stream",
          "text": [
            "1\n",
            "47561\n",
            "187232\n",
            "43894\n",
            "6973\n",
            "1646\n",
            "557\n",
            "121\n",
            "9\n",
            "Самая многочисленная - 20 - 30 \n",
            " Самая малочисленная - 0 - 10\n"
          ]
        }
      ],
      "source": [
        "maxGroup = 0\n",
        "minGroup = 10000000\n",
        "\n",
        "\n",
        "for i in range (9):\n",
        "    temp = data[(data['Age'] >= i*10) & (data['Age'] <= (i+1)*10)].shape[0]\n",
        "    print(temp)\n",
        "    if temp > maxGroup:\n",
        "        maxGroup = temp\n",
        "        maxId = i\n",
        "    if temp < minGroup:\n",
        "        minGroup = temp\n",
        "        minId = i\n",
        "print(\n",
        "    'Самая многочисленная -', maxId*10, '-', (maxId+1)*10, '\\n',\n",
        "    'Самая малочисленная -', minId*10, '-', (minId+1)*10, \n",
        ")\n"
      ]
    },
    {
      "cell_type": "markdown",
      "metadata": {
        "id": "iprLEnSGwRNp"
      },
      "source": [
        "__10. Проводились ли летние олимпийские игры в Atlanta? А зимние в Squaw Valley? Верните True или False__"
      ]
    },
    {
      "cell_type": "code",
      "execution_count": 15,
      "metadata": {
        "id": "OyDl-4hhwRNp"
      },
      "outputs": [
        {
          "data": {
            "text/plain": [
              "True"
            ]
          },
          "metadata": {},
          "output_type": "display_data"
        },
        {
          "data": {
            "text/plain": [
              "True"
            ]
          },
          "metadata": {},
          "output_type": "display_data"
        }
      ],
      "source": [
        "display((data['City'] == 'Atlanta').any())\n",
        "display(((data['City'] == 'Squaw Valley') & data['Games'].str.contains(r'Winter')).any())"
      ]
    },
    {
      "cell_type": "markdown",
      "metadata": {
        "id": "otrlFvOUwRNp"
      },
      "source": [
        "__11. Найдите абсолютную разницу между количеством уникальных видов спорта на играх в 1988 году и в 2002__"
      ]
    },
    {
      "cell_type": "code",
      "execution_count": 16,
      "metadata": {
        "id": "CDnaijdowRNq"
      },
      "outputs": [
        {
          "name": "stdout",
          "output_type": "stream",
          "text": [
            "22\n"
          ]
        }
      ],
      "source": [
        "sp1988 = data[data['Year'] == 1988]\n",
        "sp2002 = data[data['Year'] == 2002]\n",
        "\n",
        "print(abs(sp1988.drop_duplicates(subset = ['Sport']).shape[0] - sp2002.drop_duplicates(subset = ['Sport']).shape[0]))"
      ]
    },
    {
      "cell_type": "markdown",
      "metadata": {
        "id": "peSArfPuwRNq"
      },
      "source": [
        "__12. Найдите, в каких годах проводились соревнования по керлингу__ (по керлингу чето не ищет посмотрю Speed Skating)"
      ]
    },
    {
      "cell_type": "code",
      "execution_count": 17,
      "metadata": {
        "id": "exjs91UBwRNq"
      },
      "outputs": [
        {
          "data": {
            "text/plain": [
              "4        1988\n",
              "6        1992\n",
              "8        1994\n",
              "83       1960\n",
              "85       1964\n",
              "110      1952\n",
              "111      1956\n",
              "972      2006\n",
              "975      2010\n",
              "999      1998\n",
              "1001     2002\n",
              "4130     1980\n",
              "5132     1948\n",
              "6745     1976\n",
              "6956     2014\n",
              "6991     1928\n",
              "7560     1936\n",
              "8358     1968\n",
              "9868     1972\n",
              "12363    1984\n",
              "13462    1932\n",
              "21285    1924\n",
              "Name: Year, dtype: int64"
            ]
          },
          "metadata": {},
          "output_type": "display_data"
        }
      ],
      "source": [
        "speedSk = data[data['Sport'] == 'Speed Skating']\n",
        "display(speedSk.drop_duplicates(subset = 'Year')['Year'])\n"
      ]
    },
    {
      "cell_type": "markdown",
      "metadata": {
        "id": "jmqIa9zZwRNr"
      },
      "source": [
        "__13. Постройте распределение возраста керлингистов (мужчик), участвовавших в олимпиаде в Sochi__ "
      ]
    },
    {
      "cell_type": "code",
      "execution_count": 18,
      "metadata": {
        "id": "APNyqeyGwRNs"
      },
      "outputs": [
        {
          "data": {
            "text/plain": [
              "<AxesSubplot:>"
            ]
          },
          "execution_count": 18,
          "metadata": {},
          "output_type": "execute_result"
        },
        {
          "data": {
            "image/png": "[encoded data removed]",
            "text/plain": [
              "<Figure size 640x480 with 1 Axes>"
            ]
          },
          "metadata": {},
          "output_type": "display_data"
        }
      ],
      "source": [
        "speedSk = speedSk[(speedSk['City'] == 'Sochi') & (speedSk['Sex'] == 'M')]\n",
        "speedSk['Age'].hist(bins= [15, 20, 25, 30, 35, 40])\n"
      ]
    },
    {
      "cell_type": "markdown",
      "metadata": {
        "id": "_upoS3oAwRNs"
      },
      "source": [
        "__14. Выведите бар-чарт для медалей (золотые, серебряные и бронзовые) для Australia за всю историю зимних олипиад__ "
      ]
    },
    {
      "cell_type": "code",
      "execution_count": 53,
      "metadata": {
        "id": "R0PdwVnOwRNt"
      },
      "outputs": [
        {
          "data": {
            "text/html": [
              "<div>\n",
              "<style scoped>\n",
              "    .dataframe tbody tr th:only-of-type {\n",
              "        vertical-align: middle;\n",
              "    }\n",
              "\n",
              "    .dataframe tbody tr th {\n",
              "        vertical-align: top;\n",
              "    }\n",
              "\n",
              "    .dataframe thead th {\n",
              "        text-align: right;\n",
              "    }\n",
              "</style>\n",
              "<table border=\"1\" class=\"dataframe\">\n",
              "  <thead>\n",
              "    <tr style=\"text-align: right;\">\n",
              "      <th></th>\n",
              "      <th>ID</th>\n",
              "      <th>Name</th>\n",
              "      <th>Sex</th>\n",
              "      <th>Age</th>\n",
              "      <th>Height</th>\n",
              "      <th>Weight</th>\n",
              "      <th>Team</th>\n",
              "      <th>NOC</th>\n",
              "      <th>Games</th>\n",
              "      <th>Year</th>\n",
              "      <th>Season</th>\n",
              "      <th>City</th>\n",
              "      <th>Sport</th>\n",
              "      <th>Event</th>\n",
              "      <th>Medal</th>\n",
              "    </tr>\n",
              "  </thead>\n",
              "  <tbody>\n",
              "    <tr>\n",
              "      <th>17582</th>\n",
              "      <td>9371</td>\n",
              "      <td>Dale Begg-Smith</td>\n",
              "      <td>M</td>\n",
              "      <td>21.0</td>\n",
              "      <td>186.0</td>\n",
              "      <td>84.0</td>\n",
              "      <td>Australia</td>\n",
              "      <td>AUS</td>\n",
              "      <td>2006 Winter</td>\n",
              "      <td>2006</td>\n",
              "      <td>Winter</td>\n",
              "      <td>Torino</td>\n",
              "      <td>Freestyle Skiing</td>\n",
              "      <td>Freestyle Skiing Men's Moguls</td>\n",
              "      <td>Gold</td>\n",
              "    </tr>\n",
              "    <tr>\n",
              "      <th>17583</th>\n",
              "      <td>9371</td>\n",
              "      <td>Dale Begg-Smith</td>\n",
              "      <td>M</td>\n",
              "      <td>25.0</td>\n",
              "      <td>186.0</td>\n",
              "      <td>84.0</td>\n",
              "      <td>Australia</td>\n",
              "      <td>AUS</td>\n",
              "      <td>2010 Winter</td>\n",
              "      <td>2010</td>\n",
              "      <td>Winter</td>\n",
              "      <td>Vancouver</td>\n",
              "      <td>Freestyle Skiing</td>\n",
              "      <td>Freestyle Skiing Men's Moguls</td>\n",
              "      <td>Silver</td>\n",
              "    </tr>\n",
              "    <tr>\n",
              "      <th>27971</th>\n",
              "      <td>14492</td>\n",
              "      <td>Steven John Bradbury</td>\n",
              "      <td>M</td>\n",
              "      <td>20.0</td>\n",
              "      <td>178.0</td>\n",
              "      <td>80.0</td>\n",
              "      <td>Australia</td>\n",
              "      <td>AUS</td>\n",
              "      <td>1994 Winter</td>\n",
              "      <td>1994</td>\n",
              "      <td>Winter</td>\n",
              "      <td>Lillehammer</td>\n",
              "      <td>Short Track Speed Skating</td>\n",
              "      <td>Short Track Speed Skating Men's 5,000 metres R...</td>\n",
              "      <td>Bronze</td>\n",
              "    </tr>\n",
              "    <tr>\n",
              "      <th>27976</th>\n",
              "      <td>14492</td>\n",
              "      <td>Steven John Bradbury</td>\n",
              "      <td>M</td>\n",
              "      <td>28.0</td>\n",
              "      <td>178.0</td>\n",
              "      <td>80.0</td>\n",
              "      <td>Australia</td>\n",
              "      <td>AUS</td>\n",
              "      <td>2002 Winter</td>\n",
              "      <td>2002</td>\n",
              "      <td>Winter</td>\n",
              "      <td>Salt Lake City</td>\n",
              "      <td>Short Track Speed Skating</td>\n",
              "      <td>Short Track Speed Skating Men's 1,000 metres</td>\n",
              "      <td>Gold</td>\n",
              "    </tr>\n",
              "    <tr>\n",
              "      <th>29209</th>\n",
              "      <td>15096</td>\n",
              "      <td>Torah Jane Bright (-Thomson)</td>\n",
              "      <td>F</td>\n",
              "      <td>23.0</td>\n",
              "      <td>161.0</td>\n",
              "      <td>57.0</td>\n",
              "      <td>Australia</td>\n",
              "      <td>AUS</td>\n",
              "      <td>2010 Winter</td>\n",
              "      <td>2010</td>\n",
              "      <td>Winter</td>\n",
              "      <td>Vancouver</td>\n",
              "      <td>Snowboarding</td>\n",
              "      <td>Snowboarding Women's Halfpipe</td>\n",
              "      <td>Gold</td>\n",
              "    </tr>\n",
              "    <tr>\n",
              "      <th>29211</th>\n",
              "      <td>15096</td>\n",
              "      <td>Torah Jane Bright (-Thomson)</td>\n",
              "      <td>F</td>\n",
              "      <td>27.0</td>\n",
              "      <td>161.0</td>\n",
              "      <td>57.0</td>\n",
              "      <td>Australia</td>\n",
              "      <td>AUS</td>\n",
              "      <td>2014 Winter</td>\n",
              "      <td>2014</td>\n",
              "      <td>Winter</td>\n",
              "      <td>Sochi</td>\n",
              "      <td>Snowboarding</td>\n",
              "      <td>Snowboarding Women's Halfpipe</td>\n",
              "      <td>Silver</td>\n",
              "    </tr>\n",
              "    <tr>\n",
              "      <th>34483</th>\n",
              "      <td>17774</td>\n",
              "      <td>Alisa Peta Camplin (-Warner)</td>\n",
              "      <td>F</td>\n",
              "      <td>27.0</td>\n",
              "      <td>157.0</td>\n",
              "      <td>49.0</td>\n",
              "      <td>Australia</td>\n",
              "      <td>AUS</td>\n",
              "      <td>2002 Winter</td>\n",
              "      <td>2002</td>\n",
              "      <td>Winter</td>\n",
              "      <td>Salt Lake City</td>\n",
              "      <td>Freestyle Skiing</td>\n",
              "      <td>Freestyle Skiing Women's Aerials</td>\n",
              "      <td>Gold</td>\n",
              "    </tr>\n",
              "    <tr>\n",
              "      <th>34484</th>\n",
              "      <td>17774</td>\n",
              "      <td>Alisa Peta Camplin (-Warner)</td>\n",
              "      <td>F</td>\n",
              "      <td>31.0</td>\n",
              "      <td>157.0</td>\n",
              "      <td>49.0</td>\n",
              "      <td>Australia</td>\n",
              "      <td>AUS</td>\n",
              "      <td>2006 Winter</td>\n",
              "      <td>2006</td>\n",
              "      <td>Winter</td>\n",
              "      <td>Torino</td>\n",
              "      <td>Freestyle Skiing</td>\n",
              "      <td>Freestyle Skiing Women's Aerials</td>\n",
              "      <td>Bronze</td>\n",
              "    </tr>\n",
              "    <tr>\n",
              "      <th>69438</th>\n",
              "      <td>35388</td>\n",
              "      <td>George Ingle Finch</td>\n",
              "      <td>M</td>\n",
              "      <td>35.0</td>\n",
              "      <td>NaN</td>\n",
              "      <td>NaN</td>\n",
              "      <td>Australia</td>\n",
              "      <td>AUS</td>\n",
              "      <td>1924 Winter</td>\n",
              "      <td>1924</td>\n",
              "      <td>Winter</td>\n",
              "      <td>Chamonix</td>\n",
              "      <td>Alpinism</td>\n",
              "      <td>Alpinism Mixed Alpinism</td>\n",
              "      <td>Gold</td>\n",
              "    </tr>\n",
              "    <tr>\n",
              "      <th>90306</th>\n",
              "      <td>45766</td>\n",
              "      <td>Kieran Hansen</td>\n",
              "      <td>M</td>\n",
              "      <td>22.0</td>\n",
              "      <td>176.0</td>\n",
              "      <td>78.0</td>\n",
              "      <td>Australia</td>\n",
              "      <td>AUS</td>\n",
              "      <td>1994 Winter</td>\n",
              "      <td>1994</td>\n",
              "      <td>Winter</td>\n",
              "      <td>Lillehammer</td>\n",
              "      <td>Short Track Speed Skating</td>\n",
              "      <td>Short Track Speed Skating Men's 5,000 metres R...</td>\n",
              "      <td>Bronze</td>\n",
              "    </tr>\n",
              "    <tr>\n",
              "      <th>102093</th>\n",
              "      <td>51648</td>\n",
              "      <td>Lydia Ierodiaconou-Lassila</td>\n",
              "      <td>F</td>\n",
              "      <td>28.0</td>\n",
              "      <td>157.0</td>\n",
              "      <td>54.0</td>\n",
              "      <td>Australia</td>\n",
              "      <td>AUS</td>\n",
              "      <td>2010 Winter</td>\n",
              "      <td>2010</td>\n",
              "      <td>Winter</td>\n",
              "      <td>Vancouver</td>\n",
              "      <td>Freestyle Skiing</td>\n",
              "      <td>Freestyle Skiing Women's Aerials</td>\n",
              "      <td>Gold</td>\n",
              "    </tr>\n",
              "    <tr>\n",
              "      <th>102094</th>\n",
              "      <td>51648</td>\n",
              "      <td>Lydia Ierodiaconou-Lassila</td>\n",
              "      <td>F</td>\n",
              "      <td>32.0</td>\n",
              "      <td>157.0</td>\n",
              "      <td>54.0</td>\n",
              "      <td>Australia</td>\n",
              "      <td>AUS</td>\n",
              "      <td>2014 Winter</td>\n",
              "      <td>2014</td>\n",
              "      <td>Winter</td>\n",
              "      <td>Sochi</td>\n",
              "      <td>Freestyle Skiing</td>\n",
              "      <td>Freestyle Skiing Women's Aerials</td>\n",
              "      <td>Bronze</td>\n",
              "    </tr>\n",
              "    <tr>\n",
              "      <th>163875</th>\n",
              "      <td>82243</td>\n",
              "      <td>David John Morris</td>\n",
              "      <td>M</td>\n",
              "      <td>29.0</td>\n",
              "      <td>171.0</td>\n",
              "      <td>67.0</td>\n",
              "      <td>Australia</td>\n",
              "      <td>AUS</td>\n",
              "      <td>2014 Winter</td>\n",
              "      <td>2014</td>\n",
              "      <td>Winter</td>\n",
              "      <td>Sochi</td>\n",
              "      <td>Freestyle Skiing</td>\n",
              "      <td>Freestyle Skiing Men's Aerials</td>\n",
              "      <td>Silver</td>\n",
              "    </tr>\n",
              "    <tr>\n",
              "      <th>166471</th>\n",
              "      <td>83615</td>\n",
              "      <td>Andrew John Murtha</td>\n",
              "      <td>M</td>\n",
              "      <td>28.0</td>\n",
              "      <td>NaN</td>\n",
              "      <td>NaN</td>\n",
              "      <td>Australia</td>\n",
              "      <td>AUS</td>\n",
              "      <td>1994 Winter</td>\n",
              "      <td>1994</td>\n",
              "      <td>Winter</td>\n",
              "      <td>Lillehammer</td>\n",
              "      <td>Short Track Speed Skating</td>\n",
              "      <td>Short Track Speed Skating Men's 5,000 metres R...</td>\n",
              "      <td>Bronze</td>\n",
              "    </tr>\n",
              "    <tr>\n",
              "      <th>172368</th>\n",
              "      <td>86601</td>\n",
              "      <td>Richard Nizielski</td>\n",
              "      <td>M</td>\n",
              "      <td>25.0</td>\n",
              "      <td>174.0</td>\n",
              "      <td>74.0</td>\n",
              "      <td>Australia</td>\n",
              "      <td>AUS</td>\n",
              "      <td>1994 Winter</td>\n",
              "      <td>1994</td>\n",
              "      <td>Winter</td>\n",
              "      <td>Lillehammer</td>\n",
              "      <td>Short Track Speed Skating</td>\n",
              "      <td>Short Track Speed Skating Men's 5,000 metres R...</td>\n",
              "      <td>Bronze</td>\n",
              "    </tr>\n",
              "    <tr>\n",
              "      <th>228457</th>\n",
              "      <td>114733</td>\n",
              "      <td>Zali Steggall</td>\n",
              "      <td>F</td>\n",
              "      <td>23.0</td>\n",
              "      <td>175.0</td>\n",
              "      <td>75.0</td>\n",
              "      <td>Australia</td>\n",
              "      <td>AUS</td>\n",
              "      <td>1998 Winter</td>\n",
              "      <td>1998</td>\n",
              "      <td>Winter</td>\n",
              "      <td>Nagano</td>\n",
              "      <td>Alpine Skiing</td>\n",
              "      <td>Alpine Skiing Women's Slalom</td>\n",
              "      <td>Bronze</td>\n",
              "    </tr>\n",
              "  </tbody>\n",
              "</table>\n",
              "</div>"
            ],
            "text/plain": [
              "            ID                          Name Sex   Age  Height  Weight  \\\n",
              "17582     9371               Dale Begg-Smith   M  21.0   186.0    84.0   \n",
              "17583     9371               Dale Begg-Smith   M  25.0   186.0    84.0   \n",
              "27971    14492          Steven John Bradbury   M  20.0   178.0    80.0   \n",
              "27976    14492          Steven John Bradbury   M  28.0   178.0    80.0   \n",
              "29209    15096  Torah Jane Bright (-Thomson)   F  23.0   161.0    57.0   \n",
              "29211    15096  Torah Jane Bright (-Thomson)   F  27.0   161.0    57.0   \n",
              "34483    17774  Alisa Peta Camplin (-Warner)   F  27.0   157.0    49.0   \n",
              "34484    17774  Alisa Peta Camplin (-Warner)   F  31.0   157.0    49.0   \n",
              "69438    35388            George Ingle Finch   M  35.0     NaN     NaN   \n",
              "90306    45766                 Kieran Hansen   M  22.0   176.0    78.0   \n",
              "102093   51648    Lydia Ierodiaconou-Lassila   F  28.0   157.0    54.0   \n",
              "102094   51648    Lydia Ierodiaconou-Lassila   F  32.0   157.0    54.0   \n",
              "163875   82243             David John Morris   M  29.0   171.0    67.0   \n",
              "166471   83615            Andrew John Murtha   M  28.0     NaN     NaN   \n",
              "172368   86601             Richard Nizielski   M  25.0   174.0    74.0   \n",
              "228457  114733                 Zali Steggall   F  23.0   175.0    75.0   \n",
              "\n",
              "             Team  NOC        Games  Year  Season            City  \\\n",
              "17582   Australia  AUS  2006 Winter  2006  Winter          Torino   \n",
              "17583   Australia  AUS  2010 Winter  2010  Winter       Vancouver   \n",
              "27971   Australia  AUS  1994 Winter  1994  Winter     Lillehammer   \n",
              "27976   Australia  AUS  2002 Winter  2002  Winter  Salt Lake City   \n",
              "29209   Australia  AUS  2010 Winter  2010  Winter       Vancouver   \n",
              "29211   Australia  AUS  2014 Winter  2014  Winter           Sochi   \n",
              "34483   Australia  AUS  2002 Winter  2002  Winter  Salt Lake City   \n",
              "34484   Australia  AUS  2006 Winter  2006  Winter          Torino   \n",
              "69438   Australia  AUS  1924 Winter  1924  Winter        Chamonix   \n",
              "90306   Australia  AUS  1994 Winter  1994  Winter     Lillehammer   \n",
              "102093  Australia  AUS  2010 Winter  2010  Winter       Vancouver   \n",
              "102094  Australia  AUS  2014 Winter  2014  Winter           Sochi   \n",
              "163875  Australia  AUS  2014 Winter  2014  Winter           Sochi   \n",
              "166471  Australia  AUS  1994 Winter  1994  Winter     Lillehammer   \n",
              "172368  Australia  AUS  1994 Winter  1994  Winter     Lillehammer   \n",
              "228457  Australia  AUS  1998 Winter  1998  Winter          Nagano   \n",
              "\n",
              "                            Sport  \\\n",
              "17582            Freestyle Skiing   \n",
              "17583            Freestyle Skiing   \n",
              "27971   Short Track Speed Skating   \n",
              "27976   Short Track Speed Skating   \n",
              "29209                Snowboarding   \n",
              "29211                Snowboarding   \n",
              "34483            Freestyle Skiing   \n",
              "34484            Freestyle Skiing   \n",
              "69438                    Alpinism   \n",
              "90306   Short Track Speed Skating   \n",
              "102093           Freestyle Skiing   \n",
              "102094           Freestyle Skiing   \n",
              "163875           Freestyle Skiing   \n",
              "166471  Short Track Speed Skating   \n",
              "172368  Short Track Speed Skating   \n",
              "228457              Alpine Skiing   \n",
              "\n",
              "                                                    Event   Medal  \n",
              "17582                       Freestyle Skiing Men's Moguls    Gold  \n",
              "17583                       Freestyle Skiing Men's Moguls  Silver  \n",
              "27971   Short Track Speed Skating Men's 5,000 metres R...  Bronze  \n",
              "27976        Short Track Speed Skating Men's 1,000 metres    Gold  \n",
              "29209                       Snowboarding Women's Halfpipe    Gold  \n",
              "29211                       Snowboarding Women's Halfpipe  Silver  \n",
              "34483                    Freestyle Skiing Women's Aerials    Gold  \n",
              "34484                    Freestyle Skiing Women's Aerials  Bronze  \n",
              "69438                             Alpinism Mixed Alpinism    Gold  \n",
              "90306   Short Track Speed Skating Men's 5,000 metres R...  Bronze  \n",
              "102093                   Freestyle Skiing Women's Aerials    Gold  \n",
              "102094                   Freestyle Skiing Women's Aerials  Bronze  \n",
              "163875                     Freestyle Skiing Men's Aerials  Silver  \n",
              "166471  Short Track Speed Skating Men's 5,000 metres R...  Bronze  \n",
              "172368  Short Track Speed Skating Men's 5,000 metres R...  Bronze  \n",
              "228457                       Alpine Skiing Women's Slalom  Bronze  "
            ]
          },
          "execution_count": 53,
          "metadata": {},
          "output_type": "execute_result"
        }
      ],
      "source": [
        "australia = data[(data['Team'] == 'Australia') & data['Games'].str.contains(r'Winter')]\n",
        "australia = australia.dropna(subset = ['Medal'])\n",
        "# australia['Count'][australia['Medal'] == 'Bronze'] = australia[australia['Medal'] == 'Bronze'].shape[0]\n",
        "# australia['Count'][australia['Medal'] == 'Silver'] = australia[australia['Medal'] == 'Silver'].shape[0]\n",
        "# australia['Count'][australia['Medal'] == 'Gold'] = australia[australia['Medal'] == 'Gold'].shape[0]\n",
        "australia.groupby('Medal').count()\n",
        "australia\n"
      ]
    },
    {
      "cell_type": "markdown",
      "metadata": {
        "id": "Pp8YrF1WwRNt"
      },
      "source": [
        "__15. Выведете всех уникальных спортсменов с фамилией Belov и посчитайте их количество. Заодно обратите внимание, как обозначен в данных СССР.__"
      ]
    },
    {
      "cell_type": "code",
      "execution_count": null,
      "metadata": {
        "id": "bfrFhcgWwRNu"
      },
      "outputs": [],
      "source": []
    },
    {
      "cell_type": "markdown",
      "metadata": {
        "id": "fgg9_7lHwRNu"
      },
      "source": [
        "__16. Постройте тренд общего количества медалей по годам на летних играх за всю историю участия СССР.__\n",
        "\n",
        "Так как в командных видах спорта медали получают все члены команды, нужно удалить дубликаты соревнования, в котором получена медаль. Так соревнования могут повторяться, если представители страны выиграли медали разного достоинста, то эту операцию нужно проделать отдельно для всех типов медалей, а затем просуммировать."
      ]
    },
    {
      "cell_type": "code",
      "execution_count": null,
      "metadata": {
        "id": "85sHCOclwRNu"
      },
      "outputs": [],
      "source": []
    },
    {
      "cell_type": "markdown",
      "metadata": {
        "id": "DO6uh375wRNv"
      },
      "source": [
        "__17. Какая страна завоевала больше всех медалей в Figure Skating за всю историю.__"
      ]
    },
    {
      "cell_type": "code",
      "execution_count": null,
      "metadata": {
        "id": "SwwGzY3AwRNv"
      },
      "outputs": [],
      "source": []
    },
    {
      "cell_type": "markdown",
      "metadata": {
        "id": "TmQ1iF0_wRNv"
      },
      "source": [
        "__18. Выведите количество уникальных дисциплин, которые проводятся только среди мужчин, среди женщин и смешанные дисциплины (Mixed).__"
      ]
    },
    {
      "cell_type": "code",
      "execution_count": null,
      "metadata": {
        "id": "leoO-R-fwRNw"
      },
      "outputs": [],
      "source": []
    },
    {
      "cell_type": "markdown",
      "metadata": {
        "id": "wSVFjEjSwRNw"
      },
      "source": [
        "__19. Выведете средний вес атлетов и атлеток, участвующих в соревнованиях по гимнастике (Gymnastics), но не учитывая художественную гимнастику (Rhythmic Gymnastics). Не учитывайте одних и тех же атлетов два раза.__"
      ]
    },
    {
      "cell_type": "code",
      "execution_count": null,
      "metadata": {
        "id": "yxYJKK3QwRNw"
      },
      "outputs": [],
      "source": []
    },
    {
      "cell_type": "markdown",
      "metadata": {
        "id": "8alzBsx5wRNw"
      },
      "source": [
        "__20. Проверьте, выиграла ли принимающая страна больше всего медалей, когда олимпиада проводилась в Москве. Выведите True или False__"
      ]
    },
    {
      "cell_type": "code",
      "execution_count": null,
      "metadata": {
        "id": "2pnMYqBcwRNx"
      },
      "outputs": [],
      "source": []
    }
  ],
  "metadata": {
    "colab": {
      "provenance": []
    },
    "kernelspec": {
      "display_name": "Python 3 (ipykernel)",
      "language": "python",
      "name": "python3"
    },
    "language_info": {
      "codemirror_mode": {
        "name": "ipython",
        "version": 3
      },
      "file_extension": ".py",
      "mimetype": "text/x-python",
      "name": "python",
      "nbconvert_exporter": "python",
      "pygments_lexer": "ipython3",
      "version": "3.9.13"
    }
  },
  "nbformat": 4,
  "nbformat_minor": 0
}
