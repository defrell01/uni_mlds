{
  "cells": [
    {
      "cell_type": "markdown",
      "metadata": {
        "id": "YXgfLwdUwRNZ"
      },
      "source": [
        "<center>\n",
        "<img src=\"../../img/ods_stickers.jpg\" />\n",
        "    \n",
        "## [mlcourse.ai](https://mlcourse.ai) – Open Machine Learning Course \n",
        "Author: Arina Lopukhova (@erynn). Edited by [Yury Kashnitskiy](https://yorko.github.io) (@yorko) and Vadim Shestopalov (@vchulski). This material is subject to the terms and conditions of the [Creative Commons CC BY-NC-SA 4.0](https://creativecommons.org/licenses/by-nc-sa/4.0/) license. Free use is permitted for any non-commercial purpose.\n"
      ]
    },
    {
      "cell_type": "markdown",
      "metadata": {
        "id": "sSospxmbwRNb"
      },
      "source": [
        "## <center>Разведывательный анализ данных в Pandas (история олимпийских игр)\n",
        "\n",
        "Данные содержат следующие признаки:\n",
        "\n",
        "- ID - Unique number for each athlete\n",
        "- Name - Athlete's name\n",
        "- Sex - M or F\n",
        "- Age - Integer\n",
        "- Height - In centimeters\n",
        "- Weight - In kilograms\n",
        "- Team - Team name\n",
        "- NOC - National Olympic Committee 3-letter code\n",
        "- Games - Year and season\n",
        "- Year - Integer\n",
        "- Season - Summer or Winter\n",
        "- City - Host city\n",
        "- Sport - Sport\n",
        "- Event - Event\n",
        "- Medal - Gold, Silver, Bronze, or NA\n"
      ]
    },
    {
      "cell_type": "code",
      "execution_count": 37,
      "metadata": {
        "id": "kEwsalDkwRNc"
      },
      "outputs": [],
      "source": [
        "import pandas as pd\n",
        "import matplotlib.pyplot as plt\n",
        "%matplotlib inline\n"
      ]
    },
    {
      "cell_type": "code",
      "execution_count": 38,
      "metadata": {
        "colab": {
          "base_uri": "https://localhost:8080/",
          "height": 206
        },
        "id": "RdAsPkK-wRNd",
        "outputId": "d1ba5dde-8cef-465a-ecc8-f8ed660d66ea"
      },
      "outputs": [
        {
          "data": {
            "text/html": [
              "<div>\n",
              "<style scoped>\n",
              "    .dataframe tbody tr th:only-of-type {\n",
              "        vertical-align: middle;\n",
              "    }\n",
              "\n",
              "    .dataframe tbody tr th {\n",
              "        vertical-align: top;\n",
              "    }\n",
              "\n",
              "    .dataframe thead th {\n",
              "        text-align: right;\n",
              "    }\n",
              "</style>\n",
              "<table border=\"1\" class=\"dataframe\">\n",
              "  <thead>\n",
              "    <tr style=\"text-align: right;\">\n",
              "      <th></th>\n",
              "      <th>ID</th>\n",
              "      <th>Name</th>\n",
              "      <th>Sex</th>\n",
              "      <th>Age</th>\n",
              "      <th>Height</th>\n",
              "      <th>Weight</th>\n",
              "      <th>Team</th>\n",
              "      <th>NOC</th>\n",
              "      <th>Games</th>\n",
              "      <th>Year</th>\n",
              "      <th>Season</th>\n",
              "      <th>City</th>\n",
              "      <th>Sport</th>\n",
              "      <th>Event</th>\n",
              "      <th>Medal</th>\n",
              "    </tr>\n",
              "  </thead>\n",
              "  <tbody>\n",
              "    <tr>\n",
              "      <th>0</th>\n",
              "      <td>1</td>\n",
              "      <td>A Dijiang</td>\n",
              "      <td>M</td>\n",
              "      <td>24.0</td>\n",
              "      <td>180.0</td>\n",
              "      <td>80.0</td>\n",
              "      <td>China</td>\n",
              "      <td>CHN</td>\n",
              "      <td>1992 Summer</td>\n",
              "      <td>1992</td>\n",
              "      <td>Summer</td>\n",
              "      <td>Barcelona</td>\n",
              "      <td>Basketball</td>\n",
              "      <td>Basketball Men's Basketball</td>\n",
              "      <td>NaN</td>\n",
              "    </tr>\n",
              "    <tr>\n",
              "      <th>1</th>\n",
              "      <td>2</td>\n",
              "      <td>A Lamusi</td>\n",
              "      <td>M</td>\n",
              "      <td>23.0</td>\n",
              "      <td>170.0</td>\n",
              "      <td>60.0</td>\n",
              "      <td>China</td>\n",
              "      <td>CHN</td>\n",
              "      <td>2012 Summer</td>\n",
              "      <td>2012</td>\n",
              "      <td>Summer</td>\n",
              "      <td>London</td>\n",
              "      <td>Judo</td>\n",
              "      <td>Judo Men's Extra-Lightweight</td>\n",
              "      <td>NaN</td>\n",
              "    </tr>\n",
              "    <tr>\n",
              "      <th>2</th>\n",
              "      <td>3</td>\n",
              "      <td>Gunnar Nielsen Aaby</td>\n",
              "      <td>M</td>\n",
              "      <td>24.0</td>\n",
              "      <td>NaN</td>\n",
              "      <td>NaN</td>\n",
              "      <td>Denmark</td>\n",
              "      <td>DEN</td>\n",
              "      <td>1920 Summer</td>\n",
              "      <td>1920</td>\n",
              "      <td>Summer</td>\n",
              "      <td>Antwerpen</td>\n",
              "      <td>Football</td>\n",
              "      <td>Football Men's Football</td>\n",
              "      <td>NaN</td>\n",
              "    </tr>\n",
              "    <tr>\n",
              "      <th>3</th>\n",
              "      <td>4</td>\n",
              "      <td>Edgar Lindenau Aabye</td>\n",
              "      <td>M</td>\n",
              "      <td>34.0</td>\n",
              "      <td>NaN</td>\n",
              "      <td>NaN</td>\n",
              "      <td>Denmark/Sweden</td>\n",
              "      <td>DEN</td>\n",
              "      <td>1900 Summer</td>\n",
              "      <td>1900</td>\n",
              "      <td>Summer</td>\n",
              "      <td>Paris</td>\n",
              "      <td>Tug-Of-War</td>\n",
              "      <td>Tug-Of-War Men's Tug-Of-War</td>\n",
              "      <td>Gold</td>\n",
              "    </tr>\n",
              "    <tr>\n",
              "      <th>4</th>\n",
              "      <td>5</td>\n",
              "      <td>Christine Jacoba Aaftink</td>\n",
              "      <td>F</td>\n",
              "      <td>21.0</td>\n",
              "      <td>185.0</td>\n",
              "      <td>82.0</td>\n",
              "      <td>Netherlands</td>\n",
              "      <td>NED</td>\n",
              "      <td>1988 Winter</td>\n",
              "      <td>1988</td>\n",
              "      <td>Winter</td>\n",
              "      <td>Calgary</td>\n",
              "      <td>Speed Skating</td>\n",
              "      <td>Speed Skating Women's 500 metres</td>\n",
              "      <td>NaN</td>\n",
              "    </tr>\n",
              "  </tbody>\n",
              "</table>\n",
              "</div>"
            ],
            "text/plain": [
              "   ID                      Name Sex   Age  Height  Weight            Team  \\\n",
              "0   1                 A Dijiang   M  24.0   180.0    80.0           China   \n",
              "1   2                  A Lamusi   M  23.0   170.0    60.0           China   \n",
              "2   3       Gunnar Nielsen Aaby   M  24.0     NaN     NaN         Denmark   \n",
              "3   4      Edgar Lindenau Aabye   M  34.0     NaN     NaN  Denmark/Sweden   \n",
              "4   5  Christine Jacoba Aaftink   F  21.0   185.0    82.0     Netherlands   \n",
              "\n",
              "   NOC        Games  Year  Season       City          Sport  \\\n",
              "0  CHN  1992 Summer  1992  Summer  Barcelona     Basketball   \n",
              "1  CHN  2012 Summer  2012  Summer     London           Judo   \n",
              "2  DEN  1920 Summer  1920  Summer  Antwerpen       Football   \n",
              "3  DEN  1900 Summer  1900  Summer      Paris     Tug-Of-War   \n",
              "4  NED  1988 Winter  1988  Winter    Calgary  Speed Skating   \n",
              "\n",
              "                              Event Medal  \n",
              "0       Basketball Men's Basketball   NaN  \n",
              "1      Judo Men's Extra-Lightweight   NaN  \n",
              "2           Football Men's Football   NaN  \n",
              "3       Tug-Of-War Men's Tug-Of-War  Gold  \n",
              "4  Speed Skating Women's 500 metres   NaN  "
            ]
          },
          "execution_count": 38,
          "metadata": {},
          "output_type": "execute_result"
        }
      ],
      "source": [
        "data = pd.read_csv(\n",
        "    'https://raw.githubusercontent.com/rogovich/Data/master/data/olympics/athlete_events.csv')\n",
        "data.head()\n"
      ]
    },
    {
      "cell_type": "markdown",
      "metadata": {
        "id": "oGkQ10e8wRNf"
      },
      "source": [
        "_Hint:_ возможно, в некоторых случаях нужно избавиться от дубликатов, чтобы учитывать одного атлета только один раз. Ниже пример как это сделать. Например, удалим все дубликаты атлетов.\n"
      ]
    },
    {
      "cell_type": "code",
      "execution_count": 39,
      "metadata": {
        "colab": {
          "base_uri": "https://localhost:8080/",
          "height": 52
        },
        "id": "oHPoNlXVwRNg",
        "outputId": "38d11e36-0ce0-4c35-c434-ca8665ff77f8"
      },
      "outputs": [
        {
          "data": {
            "text/plain": [
              "271116"
            ]
          },
          "metadata": {},
          "output_type": "display_data"
        },
        {
          "data": {
            "text/plain": [
              "134732"
            ]
          },
          "metadata": {},
          "output_type": "display_data"
        }
      ],
      "source": [
        "display(data.shape[0])\n",
        "display(data.drop_duplicates('Name').shape[0])\n"
      ]
    },
    {
      "cell_type": "markdown",
      "metadata": {
        "id": "4TGzDk1IwRNg"
      },
      "source": [
        "Можно удалять полные дубликаты, а можно дубликаты по нескольким колонкам (например, удалять не все дубликаты атлетов, а оставлять одно упоминание атлета для каждых игр)\n"
      ]
    },
    {
      "cell_type": "code",
      "execution_count": 40,
      "metadata": {
        "id": "7weQTdFNwRNh",
        "outputId": "29d2570d-7dd7-44e8-cf7b-54e471fcea01"
      },
      "outputs": [
        {
          "data": {
            "text/plain": [
              "271116"
            ]
          },
          "metadata": {},
          "output_type": "display_data"
        },
        {
          "data": {
            "text/plain": [
              "187297"
            ]
          },
          "metadata": {},
          "output_type": "display_data"
        },
        {
          "data": {
            "text/plain": [
              "187059"
            ]
          },
          "metadata": {},
          "output_type": "display_data"
        }
      ],
      "source": [
        "display(data.shape[0])  # всего атлетов\n",
        "\n",
        "# всего атлетов, если не учитывать записи с одинаковым именем для одинаковых игр\n",
        "display(data.drop_duplicates(['Name', 'Games']).shape[0])\n",
        "\n",
        "# всего атлетов, если не учитывать дубликаты по имени, росту и возрасту\n",
        "display(data.drop_duplicates(['Name', 'Age', 'Height']).shape[0])\n"
      ]
    },
    {
      "cell_type": "markdown",
      "metadata": {
        "id": "A04awguCwRNh"
      },
      "source": [
        "Обратите внимание, что данный метод не перезаписывает данные, поэтому, чтобы сохранить измененный датафрейм, нужно записать его в переменную.\n"
      ]
    },
    {
      "cell_type": "markdown",
      "metadata": {
        "id": "35unguDDwRNi"
      },
      "source": [
        "**1. Сколько лет было самым молодым участникам (мужчина и женщина) олимпийских игр в 1992 году?**\n"
      ]
    },
    {
      "cell_type": "code",
      "execution_count": 41,
      "metadata": {
        "id": "u5ekTdfcwRNi"
      },
      "outputs": [
        {
          "name": "stdout",
          "output_type": "stream",
          "text": [
            "M min age is  10.0\n",
            "F min age is  11.0\n"
          ]
        }
      ],
      "source": [
        "maleMinAge = data[data['Sex'] == 'M']['Age'].min()\n",
        "femaleMinAge = data[data['Sex'] == 'F']['Age'].min()\n",
        "\n",
        "print('M min age is ', maleMinAge)\n",
        "\n",
        "print('F min age is ', femaleMinAge)\n"
      ]
    },
    {
      "cell_type": "markdown",
      "metadata": {
        "id": "LzMy5o6WwRNj"
      },
      "source": [
        "**2. Какую пропорцию составляют мужчины-баскетболисты среди всех участников игр 2012 года. Округлите ответ до двух знаков.**\n"
      ]
    },
    {
      "cell_type": "code",
      "execution_count": 42,
      "metadata": {
        "id": "Dp_pXZlMwRNj"
      },
      "outputs": [
        {
          "name": "stdout",
          "output_type": "stream",
          "text": [
            "Столько процентов: 1.209814249251243\n"
          ]
        }
      ],
      "source": [
        "print('Столько процентов:', (float(((data['Sport'] == 'Basketball') & (\n",
        "    data['Sex'] == 'M')).sum()) / data.shape[0]) * 100)\n"
      ]
    },
    {
      "cell_type": "markdown",
      "metadata": {
        "id": "q1cVDrBUwRNk"
      },
      "source": [
        "**3. Найдите среднее и стандартное отклонение для роста теннисисток (большой теннис), которые участвовали в играх 2000 года. Округлите ответ до второго знака.**\n"
      ]
    },
    {
      "cell_type": "code",
      "execution_count": 43,
      "metadata": {
        "id": "6yyKQix8wRNk"
      },
      "outputs": [
        {
          "name": "stdout",
          "output_type": "stream",
          "text": [
            " Среднее -  172 \n",
            " Стд отклонение -  6.5\n"
          ]
        }
      ],
      "source": [
        "fTennis = data[(data['Sport'] == 'Tennis') & (\n",
        "    data['Sex'] == 'F') & (data['Year'] == 2000)]['Height']\n",
        "print(\n",
        "    \" Среднее - \", round(fTennis.mean()), '\\n',\n",
        "    \"Стд отклонение - \", round(fTennis.std(), 1)\n",
        ")\n"
      ]
    },
    {
      "cell_type": "markdown",
      "metadata": {
        "id": "ZOTdc5s9wRNk"
      },
      "source": [
        "**4. Выведите названия всех уникальных дисциплин, связанных с катанием на коньках (Skating). Посчитайте их количество**\n"
      ]
    },
    {
      "cell_type": "code",
      "execution_count": 44,
      "metadata": {
        "id": "1q_pZyVSwRNl"
      },
      "outputs": [
        {
          "data": {
            "text/plain": [
              "4                         Speed Skating Women's 500 metres\n",
              "5                       Speed Skating Women's 1,000 metres\n",
              "83                          Speed Skating Men's 500 metres\n",
              "84                        Speed Skating Men's 1,500 metres\n",
              "112                       Speed Skating Men's 5,000 metres\n",
              "115                      Speed Skating Men's 10,000 metres\n",
              "265                           Figure Skating Men's Singles\n",
              "278                              Figure Skating Mixed Team\n",
              "778                             Figure Skating Mixed Pairs\n",
              "973                     Speed Skating Women's 1,500 metres\n",
              "974            Speed Skating Women's Team Pursuit (6 laps)\n",
              "993                         Figure Skating Women's Singles\n",
              "998                       Speed Skating Men's 1,000 metres\n",
              "2013                      Figure Skating Mixed Ice Dancing\n",
              "2848     Short Track Speed Skating Men's 5,000 metres R...\n",
              "4132                    Speed Skating Women's 3,000 metres\n",
              "4880     Short Track Speed Skating Women's 3,000 metres...\n",
              "4936            Short Track Speed Skating Men's 500 metres\n",
              "5566          Short Track Speed Skating Men's 1,000 metres\n",
              "5567          Short Track Speed Skating Men's 1,500 metres\n",
              "7632             Speed Skating Men's Team Pursuit (8 laps)\n",
              "8053                    Speed Skating Women's 5,000 metres\n",
              "13304         Short Track Speed Skating Women's 500 metres\n",
              "14612       Short Track Speed Skating Women's 1,000 metres\n",
              "16481       Short Track Speed Skating Women's 1,500 metres\n",
              "23438                         Speed Skating Men's Allround\n",
              "47130                 Figure Skating Men's Special Figures\n",
              "Name: Event, dtype: object"
            ]
          },
          "execution_count": 44,
          "metadata": {},
          "output_type": "execute_result"
        }
      ],
      "source": [
        "skating = data[data['Event'].str.contains(r'Skating')]\n",
        "skating = skating.drop_duplicates(['Event'])['Event']\n",
        "skating\n"
      ]
    },
    {
      "cell_type": "code",
      "execution_count": 45,
      "metadata": {},
      "outputs": [
        {
          "data": {
            "text/plain": [
              "27"
            ]
          },
          "execution_count": 45,
          "metadata": {},
          "output_type": "execute_result"
        }
      ],
      "source": [
        "len(skating)\n"
      ]
    },
    {
      "cell_type": "markdown",
      "metadata": {
        "id": "iI-NX2fTwRNl"
      },
      "source": [
        "**5. Найдите самую легкую атлетку игр 2006 года. В каком виде спорта она участвовала?**\n"
      ]
    },
    {
      "cell_type": "code",
      "execution_count": 46,
      "metadata": {
        "id": "rKO_sOlhwRNm"
      },
      "outputs": [
        {
          "data": {
            "text/html": [
              "<div>\n",
              "<style scoped>\n",
              "    .dataframe tbody tr th:only-of-type {\n",
              "        vertical-align: middle;\n",
              "    }\n",
              "\n",
              "    .dataframe tbody tr th {\n",
              "        vertical-align: top;\n",
              "    }\n",
              "\n",
              "    .dataframe thead th {\n",
              "        text-align: right;\n",
              "    }\n",
              "</style>\n",
              "<table border=\"1\" class=\"dataframe\">\n",
              "  <thead>\n",
              "    <tr style=\"text-align: right;\">\n",
              "      <th></th>\n",
              "      <th>Sport</th>\n",
              "      <th>Weight</th>\n",
              "      <th>Name</th>\n",
              "    </tr>\n",
              "  </thead>\n",
              "  <tbody>\n",
              "    <tr>\n",
              "      <th>188177</th>\n",
              "      <td>Figure Skating</td>\n",
              "      <td>38.0</td>\n",
              "      <td>Phyo Yong-Myong</td>\n",
              "    </tr>\n",
              "  </tbody>\n",
              "</table>\n",
              "</div>"
            ],
            "text/plain": [
              "                 Sport  Weight             Name\n",
              "188177  Figure Skating    38.0  Phyo Yong-Myong"
            ]
          },
          "execution_count": 46,
          "metadata": {},
          "output_type": "execute_result"
        }
      ],
      "source": [
        "lightest = data[['Sport', 'Weight', 'Name']][(\n",
        "    data['Year'] == 2006) & (data['Sex'] == 'F')]\n",
        "lightest = lightest[lightest['Weight'] == lightest['Weight'].min()]\n",
        "lightest\n"
      ]
    },
    {
      "cell_type": "markdown",
      "metadata": {
        "id": "tqVy9wS_wRNn"
      },
      "source": [
        "**6. В скольких олимпиадах принимал участие John Aalberg?**\n"
      ]
    },
    {
      "cell_type": "code",
      "execution_count": 47,
      "metadata": {
        "id": "_QPyRGH-wRNn"
      },
      "outputs": [
        {
          "name": "stdout",
          "output_type": "stream",
          "text": [
            "2\n"
          ]
        },
        {
          "name": "stderr",
          "output_type": "stream",
          "text": [
            "C:\\Users\\alexd\\AppData\\Local\\Temp\\ipykernel_10528\\4028733787.py:1: UserWarning: Boolean Series key will be reindexed to match DataFrame index.\n",
            "  john = data.drop_duplicates(['Name', 'Games'])[data['Name'] == 'John Aalberg']\n"
          ]
        }
      ],
      "source": [
        "\n",
        "john = data.drop_duplicates(['Name', 'Games'])[data['Name'] == 'John Aalberg']\n",
        "print(john.shape[0])\n"
      ]
    },
    {
      "cell_type": "markdown",
      "metadata": {
        "id": "TdH_Uj8nwRNn"
      },
      "source": [
        "**7. Сколько золотых медалей настольном теннисе выиграл Китай на Олимпиаде в 2008 году?**\n"
      ]
    },
    {
      "cell_type": "code",
      "execution_count": 48,
      "metadata": {
        "id": "ac7-yOxHwRNo"
      },
      "outputs": [
        {
          "data": {
            "text/plain": [
              "8"
            ]
          },
          "execution_count": 48,
          "metadata": {},
          "output_type": "execute_result"
        }
      ],
      "source": [
        "china = data[(data['Sport'] == 'Table Tennis') & (data['Team'] == 'China') & (\n",
        "    data['Medal'] == 'Gold') & (data['Year'] == 2008)].shape[0]\n",
        "china\n"
      ]
    },
    {
      "cell_type": "markdown",
      "metadata": {
        "id": "nT4gVuYJwRNo"
      },
      "source": [
        "**8. Правда ли, что Испания выиграла меньше медалей чем Италия на играх 2016 года? Ну учитывайте NaN в колонке _Medal_.**\n"
      ]
    },
    {
      "cell_type": "code",
      "execution_count": 49,
      "metadata": {
        "id": "-S2D7Wa6wRNo"
      },
      "outputs": [
        {
          "name": "stdout",
          "output_type": "stream",
          "text": [
            "True\n"
          ]
        }
      ],
      "source": [
        "dt = data[((data['Team'] == 'Spain') | (data['Team'] == 'Italy'))\n",
        "          & (data['Year'] == 2016)]\n",
        "dt = dt.dropna(subset=['Medal'])\n",
        "spain = dt[dt['Team'] == 'Spain'].shape[0]\n",
        "italy = dt[dt['Team'] == 'Italy'].shape[0]\n",
        "\n",
        "print(spain < italy)\n"
      ]
    },
    {
      "cell_type": "markdown",
      "metadata": {
        "id": "1tfthslRwRNo"
      },
      "source": [
        "**9. Найдите самую многочисленную и самую малочисленную группу по возрасту среди всех участников игр (разбейте возраст по 10 лет).**\n"
      ]
    },
    {
      "cell_type": "code",
      "execution_count": 50,
      "metadata": {
        "id": "PwOniem4wRNp"
      },
      "outputs": [
        {
          "name": "stdout",
          "output_type": "stream",
          "text": [
            "1\n",
            "47561\n",
            "187232\n",
            "43894\n",
            "6973\n",
            "1646\n",
            "557\n",
            "121\n",
            "9\n",
            "Самая многочисленная - 20 - 30 \n",
            " Самая малочисленная - 0 - 10\n"
          ]
        }
      ],
      "source": [
        "maxGroup = 0\n",
        "minGroup = 10000000\n",
        "\n",
        "\n",
        "for i in range(9):\n",
        "    temp = data[(data['Age'] >= i*10) & (data['Age'] <= (i+1)*10)].shape[0]\n",
        "    print(temp)\n",
        "    if temp > maxGroup:\n",
        "        maxGroup = temp\n",
        "        maxId = i\n",
        "    if temp < minGroup:\n",
        "        minGroup = temp\n",
        "        minId = i\n",
        "print(\n",
        "    'Самая многочисленная -', maxId*10, '-', (maxId+1)*10, '\\n',\n",
        "    'Самая малочисленная -', minId*10, '-', (minId+1)*10,\n",
        ")\n"
      ]
    },
    {
      "cell_type": "markdown",
      "metadata": {
        "id": "iprLEnSGwRNp"
      },
      "source": [
        "**10. Проводились ли летние олимпийские игры в Atlanta? А зимние в Squaw Valley? Верните True или False**\n"
      ]
    },
    {
      "cell_type": "code",
      "execution_count": 51,
      "metadata": {
        "id": "OyDl-4hhwRNp"
      },
      "outputs": [
        {
          "data": {
            "text/plain": [
              "True"
            ]
          },
          "metadata": {},
          "output_type": "display_data"
        },
        {
          "data": {
            "text/plain": [
              "True"
            ]
          },
          "metadata": {},
          "output_type": "display_data"
        }
      ],
      "source": [
        "display((data['City'] == 'Atlanta').any())\n",
        "display(((data['City'] == 'Squaw Valley') &\n",
        "        data['Games'].str.contains(r'Winter')).any())\n"
      ]
    },
    {
      "cell_type": "markdown",
      "metadata": {
        "id": "otrlFvOUwRNp"
      },
      "source": [
        "**11. Найдите абсолютную разницу между количеством уникальных видов спорта на играх в 1988 году и в 2002**\n"
      ]
    },
    {
      "cell_type": "code",
      "execution_count": 52,
      "metadata": {
        "id": "CDnaijdowRNq"
      },
      "outputs": [
        {
          "name": "stdout",
          "output_type": "stream",
          "text": [
            "22\n"
          ]
        }
      ],
      "source": [
        "sp1988 = data[data['Year'] == 1988]\n",
        "sp2002 = data[data['Year'] == 2002]\n",
        "\n",
        "print(abs(sp1988.drop_duplicates(\n",
        "    subset=['Sport']).shape[0] - sp2002.drop_duplicates(subset=['Sport']).shape[0]))\n"
      ]
    },
    {
      "cell_type": "markdown",
      "metadata": {
        "id": "peSArfPuwRNq"
      },
      "source": [
        "**12. Найдите, в каких годах проводились соревнования по керлингу** (по керлингу чето не ищет посмотрю Speed Skating)\n"
      ]
    },
    {
      "cell_type": "code",
      "execution_count": 53,
      "metadata": {
        "id": "exjs91UBwRNq"
      },
      "outputs": [
        {
          "data": {
            "text/plain": [
              "1366     2006\n",
              "1519     2014\n",
              "2397     1924\n",
              "7358     1998\n",
              "7811     2010\n",
              "14488    2002\n",
              "Name: Year, dtype: int64"
            ]
          },
          "metadata": {},
          "output_type": "display_data"
        }
      ],
      "source": [
        "curling = data[data['Sport'] == 'Curling']\n",
        "display(curling.drop_duplicates(subset='Year')['Year'])\n"
      ]
    },
    {
      "cell_type": "markdown",
      "metadata": {
        "id": "jmqIa9zZwRNr"
      },
      "source": [
        "**13. Постройте распределение возраста керлингистов (мужчик), участвовавших в олимпиаде в Sochi**\n"
      ]
    },
    {
      "cell_type": "code",
      "execution_count": 54,
      "metadata": {
        "id": "APNyqeyGwRNs"
      },
      "outputs": [
        {
          "data": {
            "text/plain": [
              "<AxesSubplot:>"
            ]
          },
          "execution_count": 54,
          "metadata": {},
          "output_type": "execute_result"
        },
        {
          "data": {
            "image/png": "[encoded data removed]",
            "text/plain": [
              "<Figure size 640x480 with 1 Axes>"
            ]
          },
          "metadata": {},
          "output_type": "display_data"
        }
      ],
      "source": [
        "curling = curling[(curling['City'] == 'Sochi') & (curling['Sex'] == 'M')]\n",
        "curling['Age'].hist(bins=[20, 25, 30, 35, 40])\n"
      ]
    },
    {
      "cell_type": "markdown",
      "metadata": {
        "id": "_upoS3oAwRNs"
      },
      "source": [
        "**14. Выведите бар-чарт для медалей (золотые, серебряные и бронзовые) для Australia за всю историю зимних олипиад**\n"
      ]
    },
    {
      "cell_type": "code",
      "execution_count": 55,
      "metadata": {
        "id": "R0PdwVnOwRNt"
      },
      "outputs": [
        {
          "data": {
            "text/plain": [
              "<AxesSubplot:>"
            ]
          },
          "execution_count": 55,
          "metadata": {},
          "output_type": "execute_result"
        },
        {
          "data": {
            "image/png": "[encoded data removed]",
            "text/plain": [
              "<Figure size 640x480 with 1 Axes>"
            ]
          },
          "metadata": {},
          "output_type": "display_data"
        }
      ],
      "source": [
        "data[(data['Team'] == 'Australia') & (data['Season'] == 'Winter') & (\n",
        "    data['Medal'].notna())]['Medal'].value_counts().plot(kind='bar')\n"
      ]
    },
    {
      "cell_type": "markdown",
      "metadata": {
        "id": "Pp8YrF1WwRNt"
      },
      "source": [
        "**15. Выведете всех уникальных спортсменов с фамилией Belov и посчитайте их количество. Заодно обратите внимание, как обозначен в данных СССР.**\n"
      ]
    },
    {
      "cell_type": "code",
      "execution_count": 56,
      "metadata": {
        "id": "bfrFhcgWwRNu"
      },
      "outputs": [
        {
          "name": "stdout",
          "output_type": "stream",
          "text": [
            "8 \n",
            "\n"
          ]
        },
        {
          "data": {
            "text/html": [
              "<div>\n",
              "<style scoped>\n",
              "    .dataframe tbody tr th:only-of-type {\n",
              "        vertical-align: middle;\n",
              "    }\n",
              "\n",
              "    .dataframe tbody tr th {\n",
              "        vertical-align: top;\n",
              "    }\n",
              "\n",
              "    .dataframe thead th {\n",
              "        text-align: right;\n",
              "    }\n",
              "</style>\n",
              "<table border=\"1\" class=\"dataframe\">\n",
              "  <thead>\n",
              "    <tr style=\"text-align: right;\">\n",
              "      <th></th>\n",
              "      <th>ID</th>\n",
              "      <th>Name</th>\n",
              "      <th>Sex</th>\n",
              "      <th>Age</th>\n",
              "      <th>Height</th>\n",
              "      <th>Weight</th>\n",
              "      <th>Team</th>\n",
              "      <th>NOC</th>\n",
              "      <th>Games</th>\n",
              "      <th>Year</th>\n",
              "      <th>Season</th>\n",
              "      <th>City</th>\n",
              "      <th>Sport</th>\n",
              "      <th>Event</th>\n",
              "      <th>Medal</th>\n",
              "    </tr>\n",
              "  </thead>\n",
              "  <tbody>\n",
              "    <tr>\n",
              "      <th>18470</th>\n",
              "      <td>9779</td>\n",
              "      <td>Aleksandr Aleksandrovich Belov</td>\n",
              "      <td>M</td>\n",
              "      <td>20.0</td>\n",
              "      <td>200.0</td>\n",
              "      <td>100.0</td>\n",
              "      <td>Soviet Union</td>\n",
              "      <td>URS</td>\n",
              "      <td>1972 Summer</td>\n",
              "      <td>1972</td>\n",
              "      <td>Summer</td>\n",
              "      <td>Munich</td>\n",
              "      <td>Basketball</td>\n",
              "      <td>Basketball Men's Basketball</td>\n",
              "      <td>Gold</td>\n",
              "    </tr>\n",
              "    <tr>\n",
              "      <th>18472</th>\n",
              "      <td>9780</td>\n",
              "      <td>Aleksandr Belov</td>\n",
              "      <td>M</td>\n",
              "      <td>20.0</td>\n",
              "      <td>182.0</td>\n",
              "      <td>60.0</td>\n",
              "      <td>Russia</td>\n",
              "      <td>RUS</td>\n",
              "      <td>2002 Winter</td>\n",
              "      <td>2002</td>\n",
              "      <td>Winter</td>\n",
              "      <td>Salt Lake City</td>\n",
              "      <td>Ski Jumping</td>\n",
              "      <td>Ski Jumping Men's Normal Hill, Individual</td>\n",
              "      <td>NaN</td>\n",
              "    </tr>\n",
              "    <tr>\n",
              "      <th>18474</th>\n",
              "      <td>9781</td>\n",
              "      <td>Anton Sergeyevich Belov</td>\n",
              "      <td>M</td>\n",
              "      <td>27.0</td>\n",
              "      <td>192.0</td>\n",
              "      <td>92.0</td>\n",
              "      <td>Russia</td>\n",
              "      <td>RUS</td>\n",
              "      <td>2014 Winter</td>\n",
              "      <td>2014</td>\n",
              "      <td>Winter</td>\n",
              "      <td>Sochi</td>\n",
              "      <td>Ice Hockey</td>\n",
              "      <td>Ice Hockey Men's Ice Hockey</td>\n",
              "      <td>NaN</td>\n",
              "    </tr>\n",
              "    <tr>\n",
              "      <th>18475</th>\n",
              "      <td>9782</td>\n",
              "      <td>Nikolay Grigoryevich Belov</td>\n",
              "      <td>M</td>\n",
              "      <td>32.0</td>\n",
              "      <td>NaN</td>\n",
              "      <td>NaN</td>\n",
              "      <td>Soviet Union</td>\n",
              "      <td>URS</td>\n",
              "      <td>1952 Summer</td>\n",
              "      <td>1952</td>\n",
              "      <td>Summer</td>\n",
              "      <td>Helsinki</td>\n",
              "      <td>Wrestling</td>\n",
              "      <td>Wrestling Men's Middleweight, Greco-Roman</td>\n",
              "      <td>Bronze</td>\n",
              "    </tr>\n",
              "    <tr>\n",
              "      <th>18476</th>\n",
              "      <td>9783</td>\n",
              "      <td>Sergey Aleksandrovich Belov</td>\n",
              "      <td>M</td>\n",
              "      <td>24.0</td>\n",
              "      <td>190.0</td>\n",
              "      <td>82.0</td>\n",
              "      <td>Soviet Union</td>\n",
              "      <td>URS</td>\n",
              "      <td>1968 Summer</td>\n",
              "      <td>1968</td>\n",
              "      <td>Summer</td>\n",
              "      <td>Mexico City</td>\n",
              "      <td>Basketball</td>\n",
              "      <td>Basketball Men's Basketball</td>\n",
              "      <td>Bronze</td>\n",
              "    </tr>\n",
              "    <tr>\n",
              "      <th>18480</th>\n",
              "      <td>9784</td>\n",
              "      <td>Vladimir Borisovich Belov</td>\n",
              "      <td>M</td>\n",
              "      <td>22.0</td>\n",
              "      <td>195.0</td>\n",
              "      <td>92.0</td>\n",
              "      <td>Soviet Union</td>\n",
              "      <td>URS</td>\n",
              "      <td>1980 Summer</td>\n",
              "      <td>1980</td>\n",
              "      <td>Summer</td>\n",
              "      <td>Moskva</td>\n",
              "      <td>Handball</td>\n",
              "      <td>Handball Men's Handball</td>\n",
              "      <td>Silver</td>\n",
              "    </tr>\n",
              "    <tr>\n",
              "      <th>18481</th>\n",
              "      <td>9785</td>\n",
              "      <td>Yevgeny Nikolayevich Belov</td>\n",
              "      <td>M</td>\n",
              "      <td>23.0</td>\n",
              "      <td>185.0</td>\n",
              "      <td>78.0</td>\n",
              "      <td>Russia</td>\n",
              "      <td>RUS</td>\n",
              "      <td>2014 Winter</td>\n",
              "      <td>2014</td>\n",
              "      <td>Winter</td>\n",
              "      <td>Sochi</td>\n",
              "      <td>Cross Country Skiing</td>\n",
              "      <td>Cross Country Skiing Men's 15 kilometres</td>\n",
              "      <td>NaN</td>\n",
              "    </tr>\n",
              "    <tr>\n",
              "      <th>18483</th>\n",
              "      <td>9786</td>\n",
              "      <td>Yury Vladimirovich Belov</td>\n",
              "      <td>M</td>\n",
              "      <td>23.0</td>\n",
              "      <td>183.0</td>\n",
              "      <td>120.0</td>\n",
              "      <td>Belarus</td>\n",
              "      <td>BLR</td>\n",
              "      <td>2004 Summer</td>\n",
              "      <td>2004</td>\n",
              "      <td>Summer</td>\n",
              "      <td>Athina</td>\n",
              "      <td>Athletics</td>\n",
              "      <td>Athletics Men's Shot Put</td>\n",
              "      <td>NaN</td>\n",
              "    </tr>\n",
              "  </tbody>\n",
              "</table>\n",
              "</div>"
            ],
            "text/plain": [
              "         ID                            Name Sex   Age  Height  Weight  \\\n",
              "18470  9779  Aleksandr Aleksandrovich Belov   M  20.0   200.0   100.0   \n",
              "18472  9780                 Aleksandr Belov   M  20.0   182.0    60.0   \n",
              "18474  9781         Anton Sergeyevich Belov   M  27.0   192.0    92.0   \n",
              "18475  9782      Nikolay Grigoryevich Belov   M  32.0     NaN     NaN   \n",
              "18476  9783     Sergey Aleksandrovich Belov   M  24.0   190.0    82.0   \n",
              "18480  9784       Vladimir Borisovich Belov   M  22.0   195.0    92.0   \n",
              "18481  9785      Yevgeny Nikolayevich Belov   M  23.0   185.0    78.0   \n",
              "18483  9786        Yury Vladimirovich Belov   M  23.0   183.0   120.0   \n",
              "\n",
              "               Team  NOC        Games  Year  Season            City  \\\n",
              "18470  Soviet Union  URS  1972 Summer  1972  Summer          Munich   \n",
              "18472        Russia  RUS  2002 Winter  2002  Winter  Salt Lake City   \n",
              "18474        Russia  RUS  2014 Winter  2014  Winter           Sochi   \n",
              "18475  Soviet Union  URS  1952 Summer  1952  Summer        Helsinki   \n",
              "18476  Soviet Union  URS  1968 Summer  1968  Summer     Mexico City   \n",
              "18480  Soviet Union  URS  1980 Summer  1980  Summer          Moskva   \n",
              "18481        Russia  RUS  2014 Winter  2014  Winter           Sochi   \n",
              "18483       Belarus  BLR  2004 Summer  2004  Summer          Athina   \n",
              "\n",
              "                      Sport                                      Event   Medal  \n",
              "18470            Basketball                Basketball Men's Basketball    Gold  \n",
              "18472           Ski Jumping  Ski Jumping Men's Normal Hill, Individual     NaN  \n",
              "18474            Ice Hockey                Ice Hockey Men's Ice Hockey     NaN  \n",
              "18475             Wrestling  Wrestling Men's Middleweight, Greco-Roman  Bronze  \n",
              "18476            Basketball                Basketball Men's Basketball  Bronze  \n",
              "18480              Handball                    Handball Men's Handball  Silver  \n",
              "18481  Cross Country Skiing   Cross Country Skiing Men's 15 kilometres     NaN  \n",
              "18483             Athletics                   Athletics Men's Shot Put     NaN  "
            ]
          },
          "execution_count": 56,
          "metadata": {},
          "output_type": "execute_result"
        }
      ],
      "source": [
        "belovs = data[data['Name'].str.contains('Belov')]\n",
        "belovs = belovs.drop_duplicates(subset='Name')\n",
        "belovs = belovs[belovs['Sex'] == 'M']\n",
        "\n",
        "print(belovs.shape[0], '\\n')\n",
        "belovs\n"
      ]
    },
    {
      "cell_type": "markdown",
      "metadata": {
        "id": "fgg9_7lHwRNu"
      },
      "source": [
        "**16. Постройте тренд общего количества медалей по годам на летних играх за всю историю участия СССР.**\n",
        "\n",
        "Так как в командных видах спорта медали получают все члены команды, нужно удалить дубликаты соревнования, в котором получена медаль. Так соревнования могут повторяться, если представители страны выиграли медали разного достоинста, то эту операцию нужно проделать отдельно для всех типов медалей, а затем просуммировать.\n"
      ]
    },
    {
      "cell_type": "code",
      "execution_count": 57,
      "metadata": {
        "id": "85sHCOclwRNu"
      },
      "outputs": [
        {
          "data": {
            "text/plain": [
              "<AxesSubplot:xlabel='Year'>"
            ]
          },
          "execution_count": 57,
          "metadata": {},
          "output_type": "execute_result"
        },
        {
          "data": {
            "image/png": "[encoded data removed]",
            "text/plain": [
              "<Figure size 640x480 with 1 Axes>"
            ]
          },
          "metadata": {},
          "output_type": "display_data"
        }
      ],
      "source": [
        "gold = data[(data['Team'] == 'Soviet Union') & (data['Season'] == 'Summer')\n",
        "            & (data['Medal'] == 'Gold')].drop_duplicates('Event').groupby('Year').size()\n",
        "silver = data[(data['Team'] == 'Soviet Union') & (data['Season'] == 'Summer')\n",
        "              & (data['Medal'] == 'Silver')].drop_duplicates('Event').groupby('Year').size()\n",
        "bronze = data[(data['Team'] == 'Soviet Union') & (data['Season'] == 'Summer')\n",
        "              & (data['Medal'] == 'Bronze')].drop_duplicates('Event').groupby('Year').size()\n",
        "\n",
        "(gold + silver + bronze).plot()\n"
      ]
    },
    {
      "cell_type": "markdown",
      "metadata": {
        "id": "DO6uh375wRNv"
      },
      "source": [
        "**17. Какая страна завоевала больше всех медалей в Figure Skating за всю историю.**\n"
      ]
    },
    {
      "cell_type": "code",
      "execution_count": 58,
      "metadata": {
        "id": "SwwGzY3AwRNv"
      },
      "outputs": [
        {
          "data": {
            "text/plain": [
              "NOC\n",
              "RUS    32\n",
              "URS    20\n",
              "USA    16\n",
              "AUT     9\n",
              "CAN     7\n",
              "GER     7\n",
              "FRA     6\n",
              "GBR     6\n",
              "EUN     5\n",
              "SWE     5\n",
              "GDR     3\n",
              "NOR     3\n",
              "BEL     2\n",
              "CHN     2\n",
              "FIN     2\n",
              "JPN     2\n",
              "KOR     1\n",
              "NED     1\n",
              "TCH     1\n",
              "UKR     1\n",
              "Name: NOC, dtype: int64"
            ]
          },
          "execution_count": 58,
          "metadata": {},
          "output_type": "execute_result"
        }
      ],
      "source": [
        "dt = data.dropna(subset='Medal')\n",
        "dt[dt['Event'].str.contains('Figure Skating')].groupby('Medal')[\n",
        "    'NOC'].value_counts()['Gold']\n"
      ]
    },
    {
      "cell_type": "code",
      "execution_count": 59,
      "metadata": {},
      "outputs": [
        {
          "data": {
            "text/plain": [
              "NOC\n",
              "CAN    22\n",
              "USA    21\n",
              "URS    16\n",
              "RUS    15\n",
              "AUT    11\n",
              "GER     6\n",
              "CHN     4\n",
              "GBR     4\n",
              "GDR     4\n",
              "HUN     4\n",
              "FRA     3\n",
              "NOR     3\n",
              "SWE     3\n",
              "EUN     2\n",
              "FIN     2\n",
              "JPN     2\n",
              "NED     2\n",
              "SUI     2\n",
              "KOR     1\n",
              "TCH     1\n",
              "Name: NOC, dtype: int64"
            ]
          },
          "execution_count": 59,
          "metadata": {},
          "output_type": "execute_result"
        }
      ],
      "source": [
        "dt[dt['Event'].str.contains('Figure Skating')].groupby('Medal')[\n",
        "    'NOC'].value_counts()['Silver']\n"
      ]
    },
    {
      "cell_type": "code",
      "execution_count": 60,
      "metadata": {},
      "outputs": [
        {
          "data": {
            "text/plain": [
              "NOC\n",
              "USA    29\n",
              "CAN    14\n",
              "GBR    10\n",
              "FRA     9\n",
              "HUN     8\n",
              "URS     8\n",
              "GDR     7\n",
              "CHN     6\n",
              "GER     6\n",
              "AUT     5\n",
              "RUS     5\n",
              "FRG     3\n",
              "ITA     3\n",
              "TCH     3\n",
              "EUN     2\n",
              "SWE     2\n",
              "UKR     2\n",
              "BEL     1\n",
              "JPN     1\n",
              "KAZ     1\n",
              "NOR     1\n",
              "SUI     1\n",
              "Name: NOC, dtype: int64"
            ]
          },
          "execution_count": 60,
          "metadata": {},
          "output_type": "execute_result"
        }
      ],
      "source": [
        "dt[dt['Event'].str.contains('Figure Skating')].groupby('Medal')[\n",
        "    'NOC'].value_counts()['Bronze']\n"
      ]
    },
    {
      "cell_type": "markdown",
      "metadata": {
        "id": "TmQ1iF0_wRNv"
      },
      "source": [
        "**18. Выведите количество уникальных дисциплин, которые проводятся только среди мужчин, среди женщин и смешанные дисциплины (Mixed).**\n"
      ]
    },
    {
      "cell_type": "code",
      "execution_count": 61,
      "metadata": {
        "id": "leoO-R-fwRNw"
      },
      "outputs": [
        {
          "name": "stdout",
          "output_type": "stream",
          "text": [
            "Для мужчин: 464 \n",
            " Для женщин: 211 \n",
            " Смешанных: 91\n"
          ]
        }
      ],
      "source": [
        "print('Для мужчин:', len(data[data['Event'].str.contains('Men')]['Event'].unique()), '\\n',\n",
        "      'Для женщин:', len(\n",
        "          data[data['Event'].str.contains('Women')]['Event'].unique()), '\\n',\n",
        "      'Смешанных:', len(data[data['Event'].str.contains('Mixed')]['Event'].unique()))\n"
      ]
    },
    {
      "cell_type": "markdown",
      "metadata": {
        "id": "wSVFjEjSwRNw"
      },
      "source": [
        "**19. Выведете средний вес атлетов и атлеток, участвующих в соревнованиях по гимнастике (Gymnastics), но не учитывая художественную гимнастику (Rhythmic Gymnastics). Не учитывайте одних и тех же атлетов два раза.**\n"
      ]
    },
    {
      "cell_type": "code",
      "execution_count": 62,
      "metadata": {
        "id": "yxYJKK3QwRNw"
      },
      "outputs": [
        {
          "name": "stdout",
          "output_type": "stream",
          "text": [
            "Средний у мужчин: 63 \n",
            " Средний для женщин 47\n"
          ]
        }
      ],
      "source": [
        "print('Средний у мужчин:', round(data[data['Sport'].str.startswith('Gymnastics') & (data['Sex'] == 'M')].drop_duplicates(['Name', 'Height', 'Weight'])['Weight'].mean()), '\\n',\n",
        "      'Средний для женщин', round(data[data['Sport'].str.startswith('Gymnastics') & (data['Sex'] == 'F')].drop_duplicates(['Name', 'Height', 'Weight'])['Weight'].mean()))\n"
      ]
    },
    {
      "cell_type": "markdown",
      "metadata": {
        "id": "8alzBsx5wRNw"
      },
      "source": [
        "**20. Проверьте, выиграла ли принимающая страна больше всего медалей, когда олимпиада проводилась в Москве. Выведите True или False**\n"
      ]
    },
    {
      "cell_type": "code",
      "execution_count": 63,
      "metadata": {
        "id": "2pnMYqBcwRNx"
      },
      "outputs": [
        {
          "data": {
            "text/plain": [
              "True"
            ]
          },
          "execution_count": 63,
          "metadata": {},
          "output_type": "execute_result"
        }
      ],
      "source": [
        "data[data['City'] == 'Moskva'].groupby('NOC')['Medal'].size()['URS'] == data[data['City'] == 'Moskva'].groupby('NOC')['Medal'].size().max()"
      ]
    }
  ],
  "metadata": {
    "colab": {
      "provenance": []
    },
    "kernelspec": {
      "display_name": "Python 3 (ipykernel)",
      "language": "python",
      "name": "python3"
    },
    "language_info": {
      "codemirror_mode": {
        "name": "ipython",
        "version": 3
      },
      "file_extension": ".py",
      "mimetype": "text/x-python",
      "name": "python",
      "nbconvert_exporter": "python",
      "pygments_lexer": "ipython3",
      "version": "3.9.13"
    }
  },
  "nbformat": 4,
  "nbformat_minor": 0
}
